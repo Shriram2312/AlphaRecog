{
 "cells": [
  {
   "cell_type": "code",
   "execution_count": 1,
   "metadata": {},
   "outputs": [],
   "source": [
    "import csv\n",
    "\n",
    "import numpy as np\n",
    "import tensorflow as tf\n",
    "from sklearn.model_selection import train_test_split\n",
    "\n",
    "RANDOM_SEED = 42"
   ]
  },
  {
   "cell_type": "markdown",
   "metadata": {},
   "source": [
    "# 各パス指定"
   ]
  },
  {
   "cell_type": "code",
   "execution_count": 2,
   "metadata": {},
   "outputs": [],
   "source": [
    "dataset = 'model/keypoint_classifier/keypoint.csv'\n",
    "model_save_path = 'model/keypoint_classifier/alpha_clf.hdf5'"
   ]
  },
  {
   "cell_type": "markdown",
   "metadata": {},
   "source": [
    "# 分類数設定"
   ]
  },
  {
   "cell_type": "code",
   "execution_count": 3,
   "metadata": {},
   "outputs": [],
   "source": [
    "NUM_CLASSES = 10"
   ]
  },
  {
   "cell_type": "markdown",
   "metadata": {},
   "source": [
    "# 学習データ読み込み"
   ]
  },
  {
   "cell_type": "code",
   "execution_count": 4,
   "metadata": {},
   "outputs": [],
   "source": [
    "X_dataset = np.loadtxt(dataset, delimiter=',', dtype='float32', usecols=list(range(1, (21 * 2) + 1)))"
   ]
  },
  {
   "cell_type": "code",
   "execution_count": 5,
   "metadata": {},
   "outputs": [],
   "source": [
    "y_dataset = np.loadtxt(dataset, delimiter=',', dtype='int32', usecols=(0))"
   ]
  },
  {
   "cell_type": "code",
   "execution_count": 6,
   "metadata": {},
   "outputs": [],
   "source": [
    "X_train, X_test, y_train, y_test = train_test_split(X_dataset, y_dataset, train_size=0.75, random_state=RANDOM_SEED)"
   ]
  },
  {
   "cell_type": "markdown",
   "metadata": {},
   "source": [
    "# モデル構築"
   ]
  },
  {
   "cell_type": "code",
   "execution_count": 7,
   "metadata": {},
   "outputs": [],
   "source": [
    "model = tf.keras.models.Sequential([\n",
    "    tf.keras.layers.Input((21 * 2, )),\n",
    "    tf.keras.layers.Dropout(0.2),\n",
    "    tf.keras.layers.Dense(20, activation='relu'),\n",
    "    tf.keras.layers.Dropout(0.4),\n",
    "    tf.keras.layers.Dense(10, activation='relu'),\n",
    "    tf.keras.layers.Dense(NUM_CLASSES, activation='softmax')\n",
    "])"
   ]
  },
  {
   "cell_type": "code",
   "execution_count": 8,
   "metadata": {},
   "outputs": [
    {
     "output_type": "stream",
     "name": "stdout",
     "text": [
      "Model: \"sequential\"\n_________________________________________________________________\nLayer (type)                 Output Shape              Param #   \n=================================================================\ndropout (Dropout)            (None, 42)                0         \n_________________________________________________________________\ndense (Dense)                (None, 20)                860       \n_________________________________________________________________\ndropout_1 (Dropout)          (None, 20)                0         \n_________________________________________________________________\ndense_1 (Dense)              (None, 10)                210       \n_________________________________________________________________\ndense_2 (Dense)              (None, 10)                110       \n=================================================================\nTotal params: 1,180\nTrainable params: 1,180\nNon-trainable params: 0\n_________________________________________________________________\n"
     ]
    }
   ],
   "source": [
    "model.summary()  # tf.keras.utils.plot_model(model, show_shapes=True)"
   ]
  },
  {
   "cell_type": "code",
   "execution_count": 9,
   "metadata": {},
   "outputs": [],
   "source": [
    "# モデルチェックポイントのコールバック\n",
    "cp_callback = tf.keras.callbacks.ModelCheckpoint(\n",
    "    model_save_path, verbose=1, save_weights_only=False)\n",
    "# 早期打ち切り用コールバック\n",
    "es_callback = tf.keras.callbacks.EarlyStopping(patience=20, verbose=1)"
   ]
  },
  {
   "cell_type": "code",
   "execution_count": 10,
   "metadata": {},
   "outputs": [],
   "source": [
    "# モデルコンパイル\n",
    "model.compile(\n",
    "    optimizer='adam',\n",
    "    loss='sparse_categorical_crossentropy',\n",
    "    metrics=['accuracy']\n",
    ")"
   ]
  },
  {
   "cell_type": "markdown",
   "metadata": {},
   "source": [
    "# モデル訓練"
   ]
  },
  {
   "cell_type": "code",
   "execution_count": 11,
   "metadata": {
    "scrolled": true,
    "tags": [
     "outputPrepend"
    ]
   },
   "outputs": [
    {
     "output_type": "stream",
     "name": "stdout",
     "text": [
      "62 - accuracy: 0.8346 - val_loss: 0.1050 - val_accuracy: 0.9962\n",
      "\n",
      "Epoch 00384: saving model to model/keypoint_classifier\\alpha_clf.hdf5\n",
      "Epoch 385/1000\n",
      "7/7 [==============================] - 0s 7ms/step - loss: 0.4459 - accuracy: 0.8224 - val_loss: 0.1073 - val_accuracy: 0.9962\n",
      "\n",
      "Epoch 00385: saving model to model/keypoint_classifier\\alpha_clf.hdf5\n",
      "Epoch 386/1000\n",
      "7/7 [==============================] - 0s 7ms/step - loss: 0.4056 - accuracy: 0.8408 - val_loss: 0.1071 - val_accuracy: 0.9962\n",
      "\n",
      "Epoch 00386: saving model to model/keypoint_classifier\\alpha_clf.hdf5\n",
      "Epoch 387/1000\n",
      "7/7 [==============================] - 0s 8ms/step - loss: 0.4613 - accuracy: 0.8314 - val_loss: 0.1067 - val_accuracy: 0.9962\n",
      "\n",
      "Epoch 00387: saving model to model/keypoint_classifier\\alpha_clf.hdf5\n",
      "Epoch 388/1000\n",
      "7/7 [==============================] - 0s 8ms/step - loss: 0.4343 - accuracy: 0.8434 - val_loss: 0.1047 - val_accuracy: 0.9962\n",
      "\n",
      "Epoch 00388: saving model to model/keypoint_classifier\\alpha_clf.hdf5\n",
      "Epoch 389/1000\n",
      "7/7 [==============================] - 0s 7ms/step - loss: 0.3626 - accuracy: 0.8824 - val_loss: 0.1023 - val_accuracy: 0.9962\n",
      "\n",
      "Epoch 00389: saving model to model/keypoint_classifier\\alpha_clf.hdf5\n",
      "Epoch 390/1000\n",
      "7/7 [==============================] - 0s 7ms/step - loss: 0.3668 - accuracy: 0.8665 - val_loss: 0.1012 - val_accuracy: 0.9962\n",
      "\n",
      "Epoch 00390: saving model to model/keypoint_classifier\\alpha_clf.hdf5\n",
      "Epoch 391/1000\n",
      "7/7 [==============================] - 0s 8ms/step - loss: 0.4279 - accuracy: 0.8456 - val_loss: 0.1008 - val_accuracy: 0.9962\n",
      "\n",
      "Epoch 00391: saving model to model/keypoint_classifier\\alpha_clf.hdf5\n",
      "Epoch 392/1000\n",
      "7/7 [==============================] - 0s 14ms/step - loss: 0.4189 - accuracy: 0.8517 - val_loss: 0.1005 - val_accuracy: 0.9962\n",
      "\n",
      "Epoch 00392: saving model to model/keypoint_classifier\\alpha_clf.hdf5\n",
      "Epoch 393/1000\n",
      "7/7 [==============================] - 0s 10ms/step - loss: 0.4132 - accuracy: 0.8388 - val_loss: 0.1007 - val_accuracy: 0.9962\n",
      "\n",
      "Epoch 00393: saving model to model/keypoint_classifier\\alpha_clf.hdf5\n",
      "Epoch 394/1000\n",
      "7/7 [==============================] - 0s 8ms/step - loss: 0.4352 - accuracy: 0.8622 - val_loss: 0.1002 - val_accuracy: 0.9962\n",
      "\n",
      "Epoch 00394: saving model to model/keypoint_classifier\\alpha_clf.hdf5\n",
      "Epoch 395/1000\n",
      "7/7 [==============================] - 0s 8ms/step - loss: 0.3915 - accuracy: 0.8624 - val_loss: 0.1012 - val_accuracy: 0.9962\n",
      "\n",
      "Epoch 00395: saving model to model/keypoint_classifier\\alpha_clf.hdf5\n",
      "Epoch 396/1000\n",
      "7/7 [==============================] - 0s 7ms/step - loss: 0.4272 - accuracy: 0.8471 - val_loss: 0.1054 - val_accuracy: 0.9962\n",
      "\n",
      "Epoch 00396: saving model to model/keypoint_classifier\\alpha_clf.hdf5\n",
      "Epoch 397/1000\n",
      "7/7 [==============================] - 0s 8ms/step - loss: 0.4317 - accuracy: 0.8431 - val_loss: 0.1068 - val_accuracy: 0.9962\n",
      "\n",
      "Epoch 00397: saving model to model/keypoint_classifier\\alpha_clf.hdf5\n",
      "Epoch 398/1000\n",
      "7/7 [==============================] - 0s 16ms/step - loss: 0.4579 - accuracy: 0.8341 - val_loss: 0.1035 - val_accuracy: 0.9962\n",
      "\n",
      "Epoch 00398: saving model to model/keypoint_classifier\\alpha_clf.hdf5\n",
      "Epoch 399/1000\n",
      "7/7 [==============================] - 0s 14ms/step - loss: 0.4440 - accuracy: 0.8414 - val_loss: 0.1020 - val_accuracy: 0.9962\n",
      "\n",
      "Epoch 00399: saving model to model/keypoint_classifier\\alpha_clf.hdf5\n",
      "Epoch 400/1000\n",
      "7/7 [==============================] - 0s 16ms/step - loss: 0.4526 - accuracy: 0.8279 - val_loss: 0.1028 - val_accuracy: 0.9962\n",
      "\n",
      "Epoch 00400: saving model to model/keypoint_classifier\\alpha_clf.hdf5\n",
      "Epoch 401/1000\n",
      "7/7 [==============================] - 0s 14ms/step - loss: 0.4004 - accuracy: 0.8663 - val_loss: 0.1022 - val_accuracy: 0.9962\n",
      "\n",
      "Epoch 00401: saving model to model/keypoint_classifier\\alpha_clf.hdf5\n",
      "Epoch 402/1000\n",
      "7/7 [==============================] - 0s 11ms/step - loss: 0.4776 - accuracy: 0.7989 - val_loss: 0.1058 - val_accuracy: 0.9962\n",
      "\n",
      "Epoch 00402: saving model to model/keypoint_classifier\\alpha_clf.hdf5\n",
      "Epoch 403/1000\n",
      "7/7 [==============================] - 0s 9ms/step - loss: 0.4642 - accuracy: 0.8292 - val_loss: 0.1084 - val_accuracy: 0.9962\n",
      "\n",
      "Epoch 00403: saving model to model/keypoint_classifier\\alpha_clf.hdf5\n",
      "Epoch 404/1000\n",
      "7/7 [==============================] - 0s 7ms/step - loss: 0.3790 - accuracy: 0.8684 - val_loss: 0.1049 - val_accuracy: 0.9962\n",
      "\n",
      "Epoch 00404: saving model to model/keypoint_classifier\\alpha_clf.hdf5\n",
      "Epoch 405/1000\n",
      "7/7 [==============================] - 0s 13ms/step - loss: 0.4320 - accuracy: 0.8455 - val_loss: 0.1021 - val_accuracy: 0.9962\n",
      "\n",
      "Epoch 00405: saving model to model/keypoint_classifier\\alpha_clf.hdf5\n",
      "Epoch 406/1000\n",
      "7/7 [==============================] - 0s 7ms/step - loss: 0.3890 - accuracy: 0.8746 - val_loss: 0.0979 - val_accuracy: 0.9962\n",
      "\n",
      "Epoch 00406: saving model to model/keypoint_classifier\\alpha_clf.hdf5\n",
      "Epoch 407/1000\n",
      "7/7 [==============================] - 0s 7ms/step - loss: 0.3694 - accuracy: 0.8680 - val_loss: 0.0948 - val_accuracy: 0.9962\n",
      "\n",
      "Epoch 00407: saving model to model/keypoint_classifier\\alpha_clf.hdf5\n",
      "Epoch 408/1000\n",
      "7/7 [==============================] - 0s 7ms/step - loss: 0.3822 - accuracy: 0.8635 - val_loss: 0.0942 - val_accuracy: 0.9962\n",
      "\n",
      "Epoch 00408: saving model to model/keypoint_classifier\\alpha_clf.hdf5\n",
      "Epoch 409/1000\n",
      "7/7 [==============================] - 0s 7ms/step - loss: 0.3940 - accuracy: 0.8522 - val_loss: 0.0938 - val_accuracy: 0.9962\n",
      "\n",
      "Epoch 00409: saving model to model/keypoint_classifier\\alpha_clf.hdf5\n",
      "Epoch 410/1000\n",
      "7/7 [==============================] - 0s 7ms/step - loss: 0.4043 - accuracy: 0.8553 - val_loss: 0.0922 - val_accuracy: 0.9962\n",
      "\n",
      "Epoch 00410: saving model to model/keypoint_classifier\\alpha_clf.hdf5\n",
      "Epoch 411/1000\n",
      "7/7 [==============================] - 0s 7ms/step - loss: 0.4152 - accuracy: 0.8445 - val_loss: 0.0942 - val_accuracy: 0.9962\n",
      "\n",
      "Epoch 00411: saving model to model/keypoint_classifier\\alpha_clf.hdf5\n",
      "Epoch 412/1000\n",
      "7/7 [==============================] - 0s 7ms/step - loss: 0.3978 - accuracy: 0.8713 - val_loss: 0.0951 - val_accuracy: 0.9962\n",
      "\n",
      "Epoch 00412: saving model to model/keypoint_classifier\\alpha_clf.hdf5\n",
      "Epoch 413/1000\n",
      "7/7 [==============================] - 0s 7ms/step - loss: 0.4067 - accuracy: 0.8497 - val_loss: 0.0972 - val_accuracy: 0.9962\n",
      "\n",
      "Epoch 00413: saving model to model/keypoint_classifier\\alpha_clf.hdf5\n",
      "Epoch 414/1000\n",
      "7/7 [==============================] - 0s 14ms/step - loss: 0.3935 - accuracy: 0.8686 - val_loss: 0.0996 - val_accuracy: 0.9962\n",
      "\n",
      "Epoch 00414: saving model to model/keypoint_classifier\\alpha_clf.hdf5\n",
      "Epoch 415/1000\n",
      "7/7 [==============================] - 0s 8ms/step - loss: 0.4128 - accuracy: 0.8522 - val_loss: 0.1000 - val_accuracy: 0.9962\n",
      "\n",
      "Epoch 00415: saving model to model/keypoint_classifier\\alpha_clf.hdf5\n",
      "Epoch 416/1000\n",
      "7/7 [==============================] - 0s 7ms/step - loss: 0.4397 - accuracy: 0.8426 - val_loss: 0.1044 - val_accuracy: 0.9962\n",
      "\n",
      "Epoch 00416: saving model to model/keypoint_classifier\\alpha_clf.hdf5\n",
      "Epoch 417/1000\n",
      "7/7 [==============================] - 0s 8ms/step - loss: 0.4355 - accuracy: 0.8494 - val_loss: 0.1081 - val_accuracy: 0.9962\n",
      "\n",
      "Epoch 00417: saving model to model/keypoint_classifier\\alpha_clf.hdf5\n",
      "Epoch 418/1000\n",
      "7/7 [==============================] - 0s 8ms/step - loss: 0.3815 - accuracy: 0.8642 - val_loss: 0.1045 - val_accuracy: 0.9962\n",
      "\n",
      "Epoch 00418: saving model to model/keypoint_classifier\\alpha_clf.hdf5\n",
      "Epoch 419/1000\n",
      "7/7 [==============================] - 0s 7ms/step - loss: 0.4272 - accuracy: 0.8450 - val_loss: 0.0991 - val_accuracy: 0.9962\n",
      "\n",
      "Epoch 00419: saving model to model/keypoint_classifier\\alpha_clf.hdf5\n",
      "Epoch 420/1000\n",
      "7/7 [==============================] - 0s 7ms/step - loss: 0.3901 - accuracy: 0.8826 - val_loss: 0.0985 - val_accuracy: 0.9962\n",
      "\n",
      "Epoch 00420: saving model to model/keypoint_classifier\\alpha_clf.hdf5\n",
      "Epoch 421/1000\n",
      "7/7 [==============================] - 0s 7ms/step - loss: 0.4006 - accuracy: 0.8481 - val_loss: 0.1004 - val_accuracy: 0.9962\n",
      "\n",
      "Epoch 00421: saving model to model/keypoint_classifier\\alpha_clf.hdf5\n",
      "Epoch 422/1000\n",
      "7/7 [==============================] - 0s 7ms/step - loss: 0.4043 - accuracy: 0.8553 - val_loss: 0.1022 - val_accuracy: 0.9962\n",
      "\n",
      "Epoch 00422: saving model to model/keypoint_classifier\\alpha_clf.hdf5\n",
      "Epoch 423/1000\n",
      "7/7 [==============================] - 0s 7ms/step - loss: 0.3731 - accuracy: 0.8808 - val_loss: 0.0972 - val_accuracy: 0.9962\n",
      "\n",
      "Epoch 00423: saving model to model/keypoint_classifier\\alpha_clf.hdf5\n",
      "Epoch 424/1000\n",
      "7/7 [==============================] - 0s 7ms/step - loss: 0.3584 - accuracy: 0.8756 - val_loss: 0.0907 - val_accuracy: 0.9962\n",
      "\n",
      "Epoch 00424: saving model to model/keypoint_classifier\\alpha_clf.hdf5\n",
      "Epoch 425/1000\n",
      "7/7 [==============================] - 0s 9ms/step - loss: 0.4333 - accuracy: 0.8372 - val_loss: 0.0875 - val_accuracy: 0.9962\n",
      "\n",
      "Epoch 00425: saving model to model/keypoint_classifier\\alpha_clf.hdf5\n",
      "Epoch 426/1000\n",
      "7/7 [==============================] - 0s 9ms/step - loss: 0.3707 - accuracy: 0.8551 - val_loss: 0.0892 - val_accuracy: 0.9962\n",
      "\n",
      "Epoch 00426: saving model to model/keypoint_classifier\\alpha_clf.hdf5\n",
      "Epoch 427/1000\n",
      "7/7 [==============================] - 0s 12ms/step - loss: 0.4355 - accuracy: 0.8445 - val_loss: 0.0891 - val_accuracy: 0.9962\n",
      "\n",
      "Epoch 00427: saving model to model/keypoint_classifier\\alpha_clf.hdf5\n",
      "Epoch 428/1000\n",
      "7/7 [==============================] - 0s 13ms/step - loss: 0.4064 - accuracy: 0.8485 - val_loss: 0.0865 - val_accuracy: 0.9962\n",
      "\n",
      "Epoch 00428: saving model to model/keypoint_classifier\\alpha_clf.hdf5\n",
      "Epoch 429/1000\n",
      "7/7 [==============================] - 0s 9ms/step - loss: 0.3917 - accuracy: 0.8622 - val_loss: 0.0902 - val_accuracy: 0.9962\n",
      "\n",
      "Epoch 00429: saving model to model/keypoint_classifier\\alpha_clf.hdf5\n",
      "Epoch 430/1000\n",
      "7/7 [==============================] - 0s 9ms/step - loss: 0.3965 - accuracy: 0.8485 - val_loss: 0.0938 - val_accuracy: 0.9962\n",
      "\n",
      "Epoch 00430: saving model to model/keypoint_classifier\\alpha_clf.hdf5\n",
      "Epoch 431/1000\n",
      "7/7 [==============================] - 0s 7ms/step - loss: 0.3906 - accuracy: 0.8487 - val_loss: 0.0920 - val_accuracy: 0.9962\n",
      "\n",
      "Epoch 00431: saving model to model/keypoint_classifier\\alpha_clf.hdf5\n",
      "Epoch 432/1000\n",
      "7/7 [==============================] - 0s 15ms/step - loss: 0.3779 - accuracy: 0.8424 - val_loss: 0.0911 - val_accuracy: 0.9962\n",
      "\n",
      "Epoch 00432: saving model to model/keypoint_classifier\\alpha_clf.hdf5\n",
      "Epoch 433/1000\n",
      "7/7 [==============================] - 0s 15ms/step - loss: 0.3817 - accuracy: 0.8638 - val_loss: 0.0881 - val_accuracy: 0.9962\n",
      "\n",
      "Epoch 00433: saving model to model/keypoint_classifier\\alpha_clf.hdf5\n",
      "Epoch 434/1000\n",
      "7/7 [==============================] - 0s 7ms/step - loss: 0.4055 - accuracy: 0.8545 - val_loss: 0.0881 - val_accuracy: 0.9962\n",
      "\n",
      "Epoch 00434: saving model to model/keypoint_classifier\\alpha_clf.hdf5\n",
      "Epoch 435/1000\n",
      "7/7 [==============================] - 0s 8ms/step - loss: 0.4421 - accuracy: 0.8375 - val_loss: 0.0864 - val_accuracy: 0.9962\n",
      "\n",
      "Epoch 00435: saving model to model/keypoint_classifier\\alpha_clf.hdf5\n",
      "Epoch 436/1000\n",
      "7/7 [==============================] - 0s 7ms/step - loss: 0.4281 - accuracy: 0.8411 - val_loss: 0.0877 - val_accuracy: 0.9962\n",
      "\n",
      "Epoch 00436: saving model to model/keypoint_classifier\\alpha_clf.hdf5\n",
      "Epoch 437/1000\n",
      "7/7 [==============================] - 0s 8ms/step - loss: 0.3575 - accuracy: 0.8806 - val_loss: 0.0901 - val_accuracy: 0.9962\n",
      "\n",
      "Epoch 00437: saving model to model/keypoint_classifier\\alpha_clf.hdf5\n",
      "Epoch 438/1000\n",
      "7/7 [==============================] - 0s 8ms/step - loss: 0.4096 - accuracy: 0.8279 - val_loss: 0.0908 - val_accuracy: 0.9962\n",
      "\n",
      "Epoch 00438: saving model to model/keypoint_classifier\\alpha_clf.hdf5\n",
      "Epoch 439/1000\n",
      "7/7 [==============================] - 0s 14ms/step - loss: 0.3798 - accuracy: 0.8619 - val_loss: 0.0930 - val_accuracy: 0.9962\n",
      "\n",
      "Epoch 00439: saving model to model/keypoint_classifier\\alpha_clf.hdf5\n",
      "Epoch 440/1000\n",
      "7/7 [==============================] - 0s 10ms/step - loss: 0.4099 - accuracy: 0.8354 - val_loss: 0.0915 - val_accuracy: 0.9962\n",
      "\n",
      "Epoch 00440: saving model to model/keypoint_classifier\\alpha_clf.hdf5\n",
      "Epoch 441/1000\n",
      "7/7 [==============================] - 0s 10ms/step - loss: 0.3945 - accuracy: 0.8538 - val_loss: 0.0926 - val_accuracy: 0.9962\n",
      "\n",
      "Epoch 00441: saving model to model/keypoint_classifier\\alpha_clf.hdf5\n",
      "Epoch 442/1000\n",
      "7/7 [==============================] - 0s 15ms/step - loss: 0.4467 - accuracy: 0.8278 - val_loss: 0.0983 - val_accuracy: 0.9962\n",
      "\n",
      "Epoch 00442: saving model to model/keypoint_classifier\\alpha_clf.hdf5\n",
      "Epoch 443/1000\n",
      "7/7 [==============================] - 0s 8ms/step - loss: 0.4024 - accuracy: 0.8315 - val_loss: 0.1008 - val_accuracy: 0.9962\n",
      "\n",
      "Epoch 00443: saving model to model/keypoint_classifier\\alpha_clf.hdf5\n",
      "Epoch 444/1000\n",
      "7/7 [==============================] - 0s 7ms/step - loss: 0.4075 - accuracy: 0.8549 - val_loss: 0.0995 - val_accuracy: 0.9962\n",
      "\n",
      "Epoch 00444: saving model to model/keypoint_classifier\\alpha_clf.hdf5\n",
      "Epoch 445/1000\n",
      "7/7 [==============================] - 0s 7ms/step - loss: 0.3898 - accuracy: 0.8433 - val_loss: 0.0965 - val_accuracy: 0.9962\n",
      "\n",
      "Epoch 00445: saving model to model/keypoint_classifier\\alpha_clf.hdf5\n",
      "Epoch 446/1000\n",
      "7/7 [==============================] - 0s 7ms/step - loss: 0.3830 - accuracy: 0.8657 - val_loss: 0.0954 - val_accuracy: 0.9962\n",
      "\n",
      "Epoch 00446: saving model to model/keypoint_classifier\\alpha_clf.hdf5\n",
      "Epoch 447/1000\n",
      "7/7 [==============================] - 0s 7ms/step - loss: 0.3732 - accuracy: 0.8815 - val_loss: 0.0925 - val_accuracy: 0.9962\n",
      "\n",
      "Epoch 00447: saving model to model/keypoint_classifier\\alpha_clf.hdf5\n",
      "Epoch 448/1000\n",
      "7/7 [==============================] - 0s 12ms/step - loss: 0.3595 - accuracy: 0.8628 - val_loss: 0.0883 - val_accuracy: 0.9962\n",
      "\n",
      "Epoch 00448: saving model to model/keypoint_classifier\\alpha_clf.hdf5\n",
      "Epoch 449/1000\n",
      "7/7 [==============================] - 0s 7ms/step - loss: 0.3555 - accuracy: 0.8791 - val_loss: 0.0854 - val_accuracy: 0.9962\n",
      "\n",
      "Epoch 00449: saving model to model/keypoint_classifier\\alpha_clf.hdf5\n",
      "Epoch 450/1000\n",
      "7/7 [==============================] - 0s 7ms/step - loss: 0.4278 - accuracy: 0.8276 - val_loss: 0.0845 - val_accuracy: 0.9962\n",
      "\n",
      "Epoch 00450: saving model to model/keypoint_classifier\\alpha_clf.hdf5\n",
      "Epoch 451/1000\n",
      "7/7 [==============================] - 0s 13ms/step - loss: 0.4082 - accuracy: 0.8455 - val_loss: 0.0857 - val_accuracy: 0.9962\n",
      "\n",
      "Epoch 00451: saving model to model/keypoint_classifier\\alpha_clf.hdf5\n",
      "Epoch 452/1000\n",
      "7/7 [==============================] - 0s 12ms/step - loss: 0.3853 - accuracy: 0.8606 - val_loss: 0.0874 - val_accuracy: 0.9962\n",
      "\n",
      "Epoch 00452: saving model to model/keypoint_classifier\\alpha_clf.hdf5\n",
      "Epoch 453/1000\n",
      "7/7 [==============================] - 0s 7ms/step - loss: 0.3990 - accuracy: 0.8508 - val_loss: 0.0834 - val_accuracy: 0.9962\n",
      "\n",
      "Epoch 00453: saving model to model/keypoint_classifier\\alpha_clf.hdf5\n",
      "Epoch 454/1000\n",
      "7/7 [==============================] - 0s 14ms/step - loss: 0.3565 - accuracy: 0.8716 - val_loss: 0.0838 - val_accuracy: 0.9962\n",
      "\n",
      "Epoch 00454: saving model to model/keypoint_classifier\\alpha_clf.hdf5\n",
      "Epoch 455/1000\n",
      "7/7 [==============================] - 0s 13ms/step - loss: 0.3989 - accuracy: 0.8557 - val_loss: 0.0857 - val_accuracy: 0.9962\n",
      "\n",
      "Epoch 00455: saving model to model/keypoint_classifier\\alpha_clf.hdf5\n",
      "Epoch 456/1000\n",
      "7/7 [==============================] - 0s 9ms/step - loss: 0.3793 - accuracy: 0.8691 - val_loss: 0.0842 - val_accuracy: 0.9962\n",
      "\n",
      "Epoch 00456: saving model to model/keypoint_classifier\\alpha_clf.hdf5\n",
      "Epoch 457/1000\n",
      "7/7 [==============================] - 0s 20ms/step - loss: 0.3927 - accuracy: 0.8505 - val_loss: 0.0811 - val_accuracy: 0.9962\n",
      "\n",
      "Epoch 00457: saving model to model/keypoint_classifier\\alpha_clf.hdf5\n",
      "Epoch 458/1000\n",
      "7/7 [==============================] - 0s 8ms/step - loss: 0.4087 - accuracy: 0.8513 - val_loss: 0.0814 - val_accuracy: 0.9962\n",
      "\n",
      "Epoch 00458: saving model to model/keypoint_classifier\\alpha_clf.hdf5\n",
      "Epoch 459/1000\n",
      "7/7 [==============================] - 0s 13ms/step - loss: 0.3789 - accuracy: 0.8780 - val_loss: 0.0825 - val_accuracy: 0.9962\n",
      "\n",
      "Epoch 00459: saving model to model/keypoint_classifier\\alpha_clf.hdf5\n",
      "Epoch 460/1000\n",
      "7/7 [==============================] - 0s 8ms/step - loss: 0.3912 - accuracy: 0.8704 - val_loss: 0.0859 - val_accuracy: 0.9962\n",
      "\n",
      "Epoch 00460: saving model to model/keypoint_classifier\\alpha_clf.hdf5\n",
      "Epoch 461/1000\n",
      "7/7 [==============================] - 0s 9ms/step - loss: 0.3889 - accuracy: 0.8414 - val_loss: 0.0859 - val_accuracy: 0.9962\n",
      "\n",
      "Epoch 00461: saving model to model/keypoint_classifier\\alpha_clf.hdf5\n",
      "Epoch 462/1000\n",
      "7/7 [==============================] - 0s 14ms/step - loss: 0.4127 - accuracy: 0.8440 - val_loss: 0.0839 - val_accuracy: 0.9962\n",
      "\n",
      "Epoch 00462: saving model to model/keypoint_classifier\\alpha_clf.hdf5\n",
      "Epoch 463/1000\n",
      "7/7 [==============================] - 0s 7ms/step - loss: 0.3478 - accuracy: 0.8673 - val_loss: 0.0836 - val_accuracy: 0.9962\n",
      "\n",
      "Epoch 00463: saving model to model/keypoint_classifier\\alpha_clf.hdf5\n",
      "Epoch 464/1000\n",
      "7/7 [==============================] - 0s 7ms/step - loss: 0.3546 - accuracy: 0.8601 - val_loss: 0.0840 - val_accuracy: 0.9962\n",
      "\n",
      "Epoch 00464: saving model to model/keypoint_classifier\\alpha_clf.hdf5\n",
      "Epoch 465/1000\n",
      "7/7 [==============================] - 0s 7ms/step - loss: 0.3855 - accuracy: 0.8584 - val_loss: 0.0887 - val_accuracy: 0.9962\n",
      "\n",
      "Epoch 00465: saving model to model/keypoint_classifier\\alpha_clf.hdf5\n",
      "Epoch 466/1000\n",
      "7/7 [==============================] - 0s 7ms/step - loss: 0.3744 - accuracy: 0.8762 - val_loss: 0.0880 - val_accuracy: 0.9962\n",
      "\n",
      "Epoch 00466: saving model to model/keypoint_classifier\\alpha_clf.hdf5\n",
      "Epoch 467/1000\n",
      "7/7 [==============================] - 0s 14ms/step - loss: 0.3570 - accuracy: 0.8702 - val_loss: 0.0844 - val_accuracy: 0.9962\n",
      "\n",
      "Epoch 00467: saving model to model/keypoint_classifier\\alpha_clf.hdf5\n",
      "Epoch 468/1000\n",
      "7/7 [==============================] - 0s 16ms/step - loss: 0.3803 - accuracy: 0.8657 - val_loss: 0.0830 - val_accuracy: 0.9962\n",
      "\n",
      "Epoch 00468: saving model to model/keypoint_classifier\\alpha_clf.hdf5\n",
      "Epoch 469/1000\n",
      "7/7 [==============================] - 0s 17ms/step - loss: 0.3982 - accuracy: 0.8546 - val_loss: 0.0841 - val_accuracy: 0.9962\n",
      "\n",
      "Epoch 00469: saving model to model/keypoint_classifier\\alpha_clf.hdf5\n",
      "Epoch 470/1000\n",
      "7/7 [==============================] - 0s 8ms/step - loss: 0.3998 - accuracy: 0.8642 - val_loss: 0.0831 - val_accuracy: 0.9962\n",
      "\n",
      "Epoch 00470: saving model to model/keypoint_classifier\\alpha_clf.hdf5\n",
      "Epoch 471/1000\n",
      "7/7 [==============================] - 0s 7ms/step - loss: 0.3958 - accuracy: 0.8641 - val_loss: 0.0831 - val_accuracy: 0.9962\n",
      "\n",
      "Epoch 00471: saving model to model/keypoint_classifier\\alpha_clf.hdf5\n",
      "Epoch 472/1000\n",
      "7/7 [==============================] - 0s 7ms/step - loss: 0.3715 - accuracy: 0.8754 - val_loss: 0.0845 - val_accuracy: 0.9962\n",
      "\n",
      "Epoch 00472: saving model to model/keypoint_classifier\\alpha_clf.hdf5\n",
      "Epoch 473/1000\n",
      "7/7 [==============================] - 0s 7ms/step - loss: 0.3878 - accuracy: 0.8756 - val_loss: 0.0867 - val_accuracy: 0.9962\n",
      "\n",
      "Epoch 00473: saving model to model/keypoint_classifier\\alpha_clf.hdf5\n",
      "Epoch 474/1000\n",
      "7/7 [==============================] - 0s 7ms/step - loss: 0.3871 - accuracy: 0.8708 - val_loss: 0.0829 - val_accuracy: 0.9962\n",
      "\n",
      "Epoch 00474: saving model to model/keypoint_classifier\\alpha_clf.hdf5\n",
      "Epoch 475/1000\n",
      "7/7 [==============================] - 0s 7ms/step - loss: 0.4023 - accuracy: 0.8491 - val_loss: 0.0829 - val_accuracy: 0.9962\n",
      "\n",
      "Epoch 00475: saving model to model/keypoint_classifier\\alpha_clf.hdf5\n",
      "Epoch 476/1000\n",
      "7/7 [==============================] - 0s 7ms/step - loss: 0.3639 - accuracy: 0.8641 - val_loss: 0.0836 - val_accuracy: 0.9962\n",
      "\n",
      "Epoch 00476: saving model to model/keypoint_classifier\\alpha_clf.hdf5\n",
      "Epoch 477/1000\n",
      "7/7 [==============================] - 0s 8ms/step - loss: 0.3875 - accuracy: 0.8615 - val_loss: 0.0825 - val_accuracy: 0.9962\n",
      "\n",
      "Epoch 00477: saving model to model/keypoint_classifier\\alpha_clf.hdf5\n",
      "Epoch 00477: early stopping\n"
     ]
    },
    {
     "output_type": "execute_result",
     "data": {
      "text/plain": [
       "<tensorflow.python.keras.callbacks.History at 0x1ebd7317550>"
      ]
     },
     "metadata": {},
     "execution_count": 11
    }
   ],
   "source": [
    "model.fit(\n",
    "    X_train,\n",
    "    y_train,\n",
    "    epochs=1000,\n",
    "    batch_size=128,\n",
    "    validation_data=(X_test, y_test),\n",
    "    callbacks=[cp_callback, es_callback]\n",
    ")"
   ]
  },
  {
   "cell_type": "code",
   "execution_count": 12,
   "metadata": {},
   "outputs": [
    {
     "output_type": "stream",
     "name": "stdout",
     "text": [
      "3/3 [==============================] - 0s 2ms/step - loss: 0.0825 - accuracy: 0.9962\n"
     ]
    }
   ],
   "source": [
    "# モデル評価\n",
    "val_loss, val_acc = model.evaluate(X_test, y_test, batch_size=128)"
   ]
  },
  {
   "cell_type": "code",
   "execution_count": 13,
   "metadata": {},
   "outputs": [],
   "source": [
    "# 保存したモデルのロード\n",
    "model = tf.keras.models.load_model(model_save_path)"
   ]
  },
  {
   "cell_type": "code",
   "execution_count": 14,
   "metadata": {},
   "outputs": [
    {
     "output_type": "stream",
     "name": "stdout",
     "text": [
      "[5.3620241e-03 2.7696416e-02 1.1401556e-02 3.7206011e-08 1.5422781e-03\n 9.5399624e-01 2.8878120e-09 1.5834539e-08 3.2841407e-07 1.1933142e-06]\n5\n"
     ]
    }
   ],
   "source": [
    "# 推論テスト\n",
    "predict_result = model.predict(np.array([X_test[0]]))\n",
    "print(np.squeeze(predict_result))\n",
    "print(np.argmax(np.squeeze(predict_result)))"
   ]
  },
  {
   "cell_type": "markdown",
   "metadata": {},
   "source": [
    "# 混同行列"
   ]
  },
  {
   "cell_type": "code",
   "execution_count": 15,
   "metadata": {},
   "outputs": [
    {
     "output_type": "display_data",
     "data": {
      "text/plain": "<Figure size 504x432 with 2 Axes>",
      "image/svg+xml": "<?xml version=\"1.0\" encoding=\"utf-8\" standalone=\"no\"?>\r\n<!DOCTYPE svg PUBLIC \"-//W3C//DTD SVG 1.1//EN\"\r\n  \"http://www.w3.org/Graphics/SVG/1.1/DTD/svg11.dtd\">\r\n<!-- Created with matplotlib (https://matplotlib.org/) -->\r\n<svg height=\"357.238125pt\" version=\"1.1\" viewBox=\"0 0 399.121125 357.238125\" width=\"399.121125pt\" xmlns=\"http://www.w3.org/2000/svg\" xmlns:xlink=\"http://www.w3.org/1999/xlink\">\r\n <metadata>\r\n  <rdf:RDF xmlns:cc=\"http://creativecommons.org/ns#\" xmlns:dc=\"http://purl.org/dc/elements/1.1/\" xmlns:rdf=\"http://www.w3.org/1999/02/22-rdf-syntax-ns#\">\r\n   <cc:Work>\r\n    <dc:type rdf:resource=\"http://purl.org/dc/dcmitype/StillImage\"/>\r\n    <dc:date>2021-03-12T11:18:17.299358</dc:date>\r\n    <dc:format>image/svg+xml</dc:format>\r\n    <dc:creator>\r\n     <cc:Agent>\r\n      <dc:title>Matplotlib v3.3.4, https://matplotlib.org/</dc:title>\r\n     </cc:Agent>\r\n    </dc:creator>\r\n   </cc:Work>\r\n  </rdf:RDF>\r\n </metadata>\r\n <defs>\r\n  <style type=\"text/css\">*{stroke-linecap:butt;stroke-linejoin:round;}</style>\r\n </defs>\r\n <g id=\"figure_1\">\r\n  <g id=\"patch_1\">\r\n   <path d=\"M 0 357.238125 \r\nL 399.121125 357.238125 \r\nL 399.121125 0 \r\nL 0 0 \r\nz\r\n\" style=\"fill:none;\"/>\r\n  </g>\r\n  <g id=\"axes_1\">\r\n   <g id=\"patch_2\">\r\n    <path d=\"M 23.878125 333.36 \r\nL 336.358125 333.36 \r\nL 336.358125 7.2 \r\nL 23.878125 7.2 \r\nz\r\n\" style=\"fill:#ffffff;\"/>\r\n   </g>\r\n   <g id=\"QuadMesh_1\">\r\n    <path clip-path=\"url(#paab80bbdb7)\" d=\"M 23.878125 7.2 \r\nL 55.126125 7.2 \r\nL 55.126125 39.816 \r\nL 23.878125 39.816 \r\nL 23.878125 7.2 \r\n\" style=\"fill:#f6bc99;\"/>\r\n    <path clip-path=\"url(#paab80bbdb7)\" d=\"M 55.126125 7.2 \r\nL 86.374125 7.2 \r\nL 86.374125 39.816 \r\nL 55.126125 39.816 \r\nL 55.126125 7.2 \r\n\" style=\"fill:#03051a;\"/>\r\n    <path clip-path=\"url(#paab80bbdb7)\" d=\"M 86.374125 7.2 \r\nL 117.622125 7.2 \r\nL 117.622125 39.816 \r\nL 86.374125 39.816 \r\nL 86.374125 7.2 \r\n\" style=\"fill:#03051a;\"/>\r\n    <path clip-path=\"url(#paab80bbdb7)\" d=\"M 117.622125 7.2 \r\nL 148.870125 7.2 \r\nL 148.870125 39.816 \r\nL 117.622125 39.816 \r\nL 117.622125 7.2 \r\n\" style=\"fill:#03051a;\"/>\r\n    <path clip-path=\"url(#paab80bbdb7)\" d=\"M 148.870125 7.2 \r\nL 180.118125 7.2 \r\nL 180.118125 39.816 \r\nL 148.870125 39.816 \r\nL 148.870125 7.2 \r\n\" style=\"fill:#03051a;\"/>\r\n    <path clip-path=\"url(#paab80bbdb7)\" d=\"M 180.118125 7.2 \r\nL 211.366125 7.2 \r\nL 211.366125 39.816 \r\nL 180.118125 39.816 \r\nL 180.118125 7.2 \r\n\" style=\"fill:#03051a;\"/>\r\n    <path clip-path=\"url(#paab80bbdb7)\" d=\"M 211.366125 7.2 \r\nL 242.614125 7.2 \r\nL 242.614125 39.816 \r\nL 211.366125 39.816 \r\nL 211.366125 7.2 \r\n\" style=\"fill:#03051a;\"/>\r\n    <path clip-path=\"url(#paab80bbdb7)\" d=\"M 242.614125 7.2 \r\nL 273.862125 7.2 \r\nL 273.862125 39.816 \r\nL 242.614125 39.816 \r\nL 242.614125 7.2 \r\n\" style=\"fill:#03051a;\"/>\r\n    <path clip-path=\"url(#paab80bbdb7)\" d=\"M 273.862125 7.2 \r\nL 305.110125 7.2 \r\nL 305.110125 39.816 \r\nL 273.862125 39.816 \r\nL 273.862125 7.2 \r\n\" style=\"fill:#03051a;\"/>\r\n    <path clip-path=\"url(#paab80bbdb7)\" d=\"M 305.110125 7.2 \r\nL 336.358125 7.2 \r\nL 336.358125 39.816 \r\nL 305.110125 39.816 \r\nL 305.110125 7.2 \r\n\" style=\"fill:#03051a;\"/>\r\n    <path clip-path=\"url(#paab80bbdb7)\" d=\"M 23.878125 39.816 \r\nL 55.126125 39.816 \r\nL 55.126125 72.432 \r\nL 23.878125 72.432 \r\nL 23.878125 39.816 \r\n\" style=\"fill:#03051a;\"/>\r\n    <path clip-path=\"url(#paab80bbdb7)\" d=\"M 55.126125 39.816 \r\nL 86.374125 39.816 \r\nL 86.374125 72.432 \r\nL 55.126125 72.432 \r\nL 55.126125 39.816 \r\n\" style=\"fill:#ec4c3e;\"/>\r\n    <path clip-path=\"url(#paab80bbdb7)\" d=\"M 86.374125 39.816 \r\nL 117.622125 39.816 \r\nL 117.622125 72.432 \r\nL 86.374125 72.432 \r\nL 86.374125 39.816 \r\n\" style=\"fill:#03051a;\"/>\r\n    <path clip-path=\"url(#paab80bbdb7)\" d=\"M 117.622125 39.816 \r\nL 148.870125 39.816 \r\nL 148.870125 72.432 \r\nL 117.622125 72.432 \r\nL 117.622125 39.816 \r\n\" style=\"fill:#03051a;\"/>\r\n    <path clip-path=\"url(#paab80bbdb7)\" d=\"M 148.870125 39.816 \r\nL 180.118125 39.816 \r\nL 180.118125 72.432 \r\nL 148.870125 72.432 \r\nL 148.870125 39.816 \r\n\" style=\"fill:#03051a;\"/>\r\n    <path clip-path=\"url(#paab80bbdb7)\" d=\"M 180.118125 39.816 \r\nL 211.366125 39.816 \r\nL 211.366125 72.432 \r\nL 180.118125 72.432 \r\nL 180.118125 39.816 \r\n\" style=\"fill:#03051a;\"/>\r\n    <path clip-path=\"url(#paab80bbdb7)\" d=\"M 211.366125 39.816 \r\nL 242.614125 39.816 \r\nL 242.614125 72.432 \r\nL 211.366125 72.432 \r\nL 211.366125 39.816 \r\n\" style=\"fill:#03051a;\"/>\r\n    <path clip-path=\"url(#paab80bbdb7)\" d=\"M 242.614125 39.816 \r\nL 273.862125 39.816 \r\nL 273.862125 72.432 \r\nL 242.614125 72.432 \r\nL 242.614125 39.816 \r\n\" style=\"fill:#03051a;\"/>\r\n    <path clip-path=\"url(#paab80bbdb7)\" d=\"M 273.862125 39.816 \r\nL 305.110125 39.816 \r\nL 305.110125 72.432 \r\nL 273.862125 72.432 \r\nL 273.862125 39.816 \r\n\" style=\"fill:#03051a;\"/>\r\n    <path clip-path=\"url(#paab80bbdb7)\" d=\"M 305.110125 39.816 \r\nL 336.358125 39.816 \r\nL 336.358125 72.432 \r\nL 305.110125 72.432 \r\nL 305.110125 39.816 \r\n\" style=\"fill:#03051a;\"/>\r\n    <path clip-path=\"url(#paab80bbdb7)\" d=\"M 23.878125 72.432 \r\nL 55.126125 72.432 \r\nL 55.126125 105.048 \r\nL 23.878125 105.048 \r\nL 23.878125 72.432 \r\n\" style=\"fill:#03051a;\"/>\r\n    <path clip-path=\"url(#paab80bbdb7)\" d=\"M 55.126125 72.432 \r\nL 86.374125 72.432 \r\nL 86.374125 105.048 \r\nL 55.126125 105.048 \r\nL 55.126125 72.432 \r\n\" style=\"fill:#03051a;\"/>\r\n    <path clip-path=\"url(#paab80bbdb7)\" d=\"M 86.374125 72.432 \r\nL 117.622125 72.432 \r\nL 117.622125 105.048 \r\nL 86.374125 105.048 \r\nL 86.374125 72.432 \r\n\" style=\"fill:#f6b089;\"/>\r\n    <path clip-path=\"url(#paab80bbdb7)\" d=\"M 117.622125 72.432 \r\nL 148.870125 72.432 \r\nL 148.870125 105.048 \r\nL 117.622125 105.048 \r\nL 117.622125 72.432 \r\n\" style=\"fill:#03051a;\"/>\r\n    <path clip-path=\"url(#paab80bbdb7)\" d=\"M 148.870125 72.432 \r\nL 180.118125 72.432 \r\nL 180.118125 105.048 \r\nL 148.870125 105.048 \r\nL 148.870125 72.432 \r\n\" style=\"fill:#03051a;\"/>\r\n    <path clip-path=\"url(#paab80bbdb7)\" d=\"M 180.118125 72.432 \r\nL 211.366125 72.432 \r\nL 211.366125 105.048 \r\nL 180.118125 105.048 \r\nL 180.118125 72.432 \r\n\" style=\"fill:#03051a;\"/>\r\n    <path clip-path=\"url(#paab80bbdb7)\" d=\"M 211.366125 72.432 \r\nL 242.614125 72.432 \r\nL 242.614125 105.048 \r\nL 211.366125 105.048 \r\nL 211.366125 72.432 \r\n\" style=\"fill:#03051a;\"/>\r\n    <path clip-path=\"url(#paab80bbdb7)\" d=\"M 242.614125 72.432 \r\nL 273.862125 72.432 \r\nL 273.862125 105.048 \r\nL 242.614125 105.048 \r\nL 242.614125 72.432 \r\n\" style=\"fill:#03051a;\"/>\r\n    <path clip-path=\"url(#paab80bbdb7)\" d=\"M 273.862125 72.432 \r\nL 305.110125 72.432 \r\nL 305.110125 105.048 \r\nL 273.862125 105.048 \r\nL 273.862125 72.432 \r\n\" style=\"fill:#03051a;\"/>\r\n    <path clip-path=\"url(#paab80bbdb7)\" d=\"M 305.110125 72.432 \r\nL 336.358125 72.432 \r\nL 336.358125 105.048 \r\nL 305.110125 105.048 \r\nL 305.110125 72.432 \r\n\" style=\"fill:#03051a;\"/>\r\n    <path clip-path=\"url(#paab80bbdb7)\" d=\"M 23.878125 105.048 \r\nL 55.126125 105.048 \r\nL 55.126125 137.664 \r\nL 23.878125 137.664 \r\nL 23.878125 105.048 \r\n\" style=\"fill:#03051a;\"/>\r\n    <path clip-path=\"url(#paab80bbdb7)\" d=\"M 55.126125 105.048 \r\nL 86.374125 105.048 \r\nL 86.374125 137.664 \r\nL 55.126125 137.664 \r\nL 55.126125 105.048 \r\n\" style=\"fill:#03051a;\"/>\r\n    <path clip-path=\"url(#paab80bbdb7)\" d=\"M 86.374125 105.048 \r\nL 117.622125 105.048 \r\nL 117.622125 137.664 \r\nL 86.374125 137.664 \r\nL 86.374125 105.048 \r\n\" style=\"fill:#03051a;\"/>\r\n    <path clip-path=\"url(#paab80bbdb7)\" d=\"M 117.622125 105.048 \r\nL 148.870125 105.048 \r\nL 148.870125 137.664 \r\nL 117.622125 137.664 \r\nL 117.622125 105.048 \r\n\" style=\"fill:#f7c9aa;\"/>\r\n    <path clip-path=\"url(#paab80bbdb7)\" d=\"M 148.870125 105.048 \r\nL 180.118125 105.048 \r\nL 180.118125 137.664 \r\nL 148.870125 137.664 \r\nL 148.870125 105.048 \r\n\" style=\"fill:#03051a;\"/>\r\n    <path clip-path=\"url(#paab80bbdb7)\" d=\"M 180.118125 105.048 \r\nL 211.366125 105.048 \r\nL 211.366125 137.664 \r\nL 180.118125 137.664 \r\nL 180.118125 105.048 \r\n\" style=\"fill:#03051a;\"/>\r\n    <path clip-path=\"url(#paab80bbdb7)\" d=\"M 211.366125 105.048 \r\nL 242.614125 105.048 \r\nL 242.614125 137.664 \r\nL 211.366125 137.664 \r\nL 211.366125 105.048 \r\n\" style=\"fill:#03051a;\"/>\r\n    <path clip-path=\"url(#paab80bbdb7)\" d=\"M 242.614125 105.048 \r\nL 273.862125 105.048 \r\nL 273.862125 137.664 \r\nL 242.614125 137.664 \r\nL 242.614125 105.048 \r\n\" style=\"fill:#03051a;\"/>\r\n    <path clip-path=\"url(#paab80bbdb7)\" d=\"M 273.862125 105.048 \r\nL 305.110125 105.048 \r\nL 305.110125 137.664 \r\nL 273.862125 137.664 \r\nL 273.862125 105.048 \r\n\" style=\"fill:#03051a;\"/>\r\n    <path clip-path=\"url(#paab80bbdb7)\" d=\"M 305.110125 105.048 \r\nL 336.358125 105.048 \r\nL 336.358125 137.664 \r\nL 305.110125 137.664 \r\nL 305.110125 105.048 \r\n\" style=\"fill:#03051a;\"/>\r\n    <path clip-path=\"url(#paab80bbdb7)\" d=\"M 23.878125 137.664 \r\nL 55.126125 137.664 \r\nL 55.126125 170.28 \r\nL 23.878125 170.28 \r\nL 23.878125 137.664 \r\n\" style=\"fill:#03051a;\"/>\r\n    <path clip-path=\"url(#paab80bbdb7)\" d=\"M 55.126125 137.664 \r\nL 86.374125 137.664 \r\nL 86.374125 170.28 \r\nL 55.126125 170.28 \r\nL 55.126125 137.664 \r\n\" style=\"fill:#03051a;\"/>\r\n    <path clip-path=\"url(#paab80bbdb7)\" d=\"M 86.374125 137.664 \r\nL 117.622125 137.664 \r\nL 117.622125 170.28 \r\nL 86.374125 170.28 \r\nL 86.374125 137.664 \r\n\" style=\"fill:#03051a;\"/>\r\n    <path clip-path=\"url(#paab80bbdb7)\" d=\"M 117.622125 137.664 \r\nL 148.870125 137.664 \r\nL 148.870125 170.28 \r\nL 117.622125 170.28 \r\nL 117.622125 137.664 \r\n\" style=\"fill:#03051a;\"/>\r\n    <path clip-path=\"url(#paab80bbdb7)\" d=\"M 148.870125 137.664 \r\nL 180.118125 137.664 \r\nL 180.118125 170.28 \r\nL 148.870125 170.28 \r\nL 148.870125 137.664 \r\n\" style=\"fill:#f8d4bc;\"/>\r\n    <path clip-path=\"url(#paab80bbdb7)\" d=\"M 180.118125 137.664 \r\nL 211.366125 137.664 \r\nL 211.366125 170.28 \r\nL 180.118125 170.28 \r\nL 180.118125 137.664 \r\n\" style=\"fill:#03051a;\"/>\r\n    <path clip-path=\"url(#paab80bbdb7)\" d=\"M 211.366125 137.664 \r\nL 242.614125 137.664 \r\nL 242.614125 170.28 \r\nL 211.366125 170.28 \r\nL 211.366125 137.664 \r\n\" style=\"fill:#03051a;\"/>\r\n    <path clip-path=\"url(#paab80bbdb7)\" d=\"M 242.614125 137.664 \r\nL 273.862125 137.664 \r\nL 273.862125 170.28 \r\nL 242.614125 170.28 \r\nL 242.614125 137.664 \r\n\" style=\"fill:#03051a;\"/>\r\n    <path clip-path=\"url(#paab80bbdb7)\" d=\"M 273.862125 137.664 \r\nL 305.110125 137.664 \r\nL 305.110125 170.28 \r\nL 273.862125 170.28 \r\nL 273.862125 137.664 \r\n\" style=\"fill:#03051a;\"/>\r\n    <path clip-path=\"url(#paab80bbdb7)\" d=\"M 305.110125 137.664 \r\nL 336.358125 137.664 \r\nL 336.358125 170.28 \r\nL 305.110125 170.28 \r\nL 305.110125 137.664 \r\n\" style=\"fill:#03051a;\"/>\r\n    <path clip-path=\"url(#paab80bbdb7)\" d=\"M 23.878125 170.28 \r\nL 55.126125 170.28 \r\nL 55.126125 202.896 \r\nL 23.878125 202.896 \r\nL 23.878125 170.28 \r\n\" style=\"fill:#03051a;\"/>\r\n    <path clip-path=\"url(#paab80bbdb7)\" d=\"M 55.126125 170.28 \r\nL 86.374125 170.28 \r\nL 86.374125 202.896 \r\nL 55.126125 202.896 \r\nL 55.126125 170.28 \r\n\" style=\"fill:#03051a;\"/>\r\n    <path clip-path=\"url(#paab80bbdb7)\" d=\"M 86.374125 170.28 \r\nL 117.622125 170.28 \r\nL 117.622125 202.896 \r\nL 86.374125 202.896 \r\nL 86.374125 170.28 \r\n\" style=\"fill:#03051a;\"/>\r\n    <path clip-path=\"url(#paab80bbdb7)\" d=\"M 117.622125 170.28 \r\nL 148.870125 170.28 \r\nL 148.870125 202.896 \r\nL 117.622125 202.896 \r\nL 117.622125 170.28 \r\n\" style=\"fill:#03051a;\"/>\r\n    <path clip-path=\"url(#paab80bbdb7)\" d=\"M 148.870125 170.28 \r\nL 180.118125 170.28 \r\nL 180.118125 202.896 \r\nL 148.870125 202.896 \r\nL 148.870125 170.28 \r\n\" style=\"fill:#03051a;\"/>\r\n    <path clip-path=\"url(#paab80bbdb7)\" d=\"M 180.118125 170.28 \r\nL 211.366125 170.28 \r\nL 211.366125 202.896 \r\nL 180.118125 202.896 \r\nL 180.118125 170.28 \r\n\" style=\"fill:#faebdd;\"/>\r\n    <path clip-path=\"url(#paab80bbdb7)\" d=\"M 211.366125 170.28 \r\nL 242.614125 170.28 \r\nL 242.614125 202.896 \r\nL 211.366125 202.896 \r\nL 211.366125 170.28 \r\n\" style=\"fill:#03051a;\"/>\r\n    <path clip-path=\"url(#paab80bbdb7)\" d=\"M 242.614125 170.28 \r\nL 273.862125 170.28 \r\nL 273.862125 202.896 \r\nL 242.614125 202.896 \r\nL 242.614125 170.28 \r\n\" style=\"fill:#03051a;\"/>\r\n    <path clip-path=\"url(#paab80bbdb7)\" d=\"M 273.862125 170.28 \r\nL 305.110125 170.28 \r\nL 305.110125 202.896 \r\nL 273.862125 202.896 \r\nL 273.862125 170.28 \r\n\" style=\"fill:#03051a;\"/>\r\n    <path clip-path=\"url(#paab80bbdb7)\" d=\"M 305.110125 170.28 \r\nL 336.358125 170.28 \r\nL 336.358125 202.896 \r\nL 305.110125 202.896 \r\nL 305.110125 170.28 \r\n\" style=\"fill:#03051a;\"/>\r\n    <path clip-path=\"url(#paab80bbdb7)\" d=\"M 23.878125 202.896 \r\nL 55.126125 202.896 \r\nL 55.126125 235.512 \r\nL 23.878125 235.512 \r\nL 23.878125 202.896 \r\n\" style=\"fill:#03051a;\"/>\r\n    <path clip-path=\"url(#paab80bbdb7)\" d=\"M 55.126125 202.896 \r\nL 86.374125 202.896 \r\nL 86.374125 235.512 \r\nL 55.126125 235.512 \r\nL 55.126125 202.896 \r\n\" style=\"fill:#03051a;\"/>\r\n    <path clip-path=\"url(#paab80bbdb7)\" d=\"M 86.374125 202.896 \r\nL 117.622125 202.896 \r\nL 117.622125 235.512 \r\nL 86.374125 235.512 \r\nL 86.374125 202.896 \r\n\" style=\"fill:#03051a;\"/>\r\n    <path clip-path=\"url(#paab80bbdb7)\" d=\"M 117.622125 202.896 \r\nL 148.870125 202.896 \r\nL 148.870125 235.512 \r\nL 117.622125 235.512 \r\nL 117.622125 202.896 \r\n\" style=\"fill:#03051a;\"/>\r\n    <path clip-path=\"url(#paab80bbdb7)\" d=\"M 148.870125 202.896 \r\nL 180.118125 202.896 \r\nL 180.118125 235.512 \r\nL 148.870125 235.512 \r\nL 148.870125 202.896 \r\n\" style=\"fill:#03051a;\"/>\r\n    <path clip-path=\"url(#paab80bbdb7)\" d=\"M 180.118125 202.896 \r\nL 211.366125 202.896 \r\nL 211.366125 235.512 \r\nL 180.118125 235.512 \r\nL 180.118125 202.896 \r\n\" style=\"fill:#03051a;\"/>\r\n    <path clip-path=\"url(#paab80bbdb7)\" d=\"M 211.366125 202.896 \r\nL 242.614125 202.896 \r\nL 242.614125 235.512 \r\nL 211.366125 235.512 \r\nL 211.366125 202.896 \r\n\" style=\"fill:#f05c42;\"/>\r\n    <path clip-path=\"url(#paab80bbdb7)\" d=\"M 242.614125 202.896 \r\nL 273.862125 202.896 \r\nL 273.862125 235.512 \r\nL 242.614125 235.512 \r\nL 242.614125 202.896 \r\n\" style=\"fill:#03051a;\"/>\r\n    <path clip-path=\"url(#paab80bbdb7)\" d=\"M 273.862125 202.896 \r\nL 305.110125 202.896 \r\nL 305.110125 235.512 \r\nL 273.862125 235.512 \r\nL 273.862125 202.896 \r\n\" style=\"fill:#03051a;\"/>\r\n    <path clip-path=\"url(#paab80bbdb7)\" d=\"M 305.110125 202.896 \r\nL 336.358125 202.896 \r\nL 336.358125 235.512 \r\nL 305.110125 235.512 \r\nL 305.110125 202.896 \r\n\" style=\"fill:#03051a;\"/>\r\n    <path clip-path=\"url(#paab80bbdb7)\" d=\"M 23.878125 235.512 \r\nL 55.126125 235.512 \r\nL 55.126125 268.128 \r\nL 23.878125 268.128 \r\nL 23.878125 235.512 \r\n\" style=\"fill:#03051a;\"/>\r\n    <path clip-path=\"url(#paab80bbdb7)\" d=\"M 55.126125 235.512 \r\nL 86.374125 235.512 \r\nL 86.374125 268.128 \r\nL 55.126125 268.128 \r\nL 55.126125 235.512 \r\n\" style=\"fill:#03051a;\"/>\r\n    <path clip-path=\"url(#paab80bbdb7)\" d=\"M 86.374125 235.512 \r\nL 117.622125 235.512 \r\nL 117.622125 268.128 \r\nL 86.374125 268.128 \r\nL 86.374125 235.512 \r\n\" style=\"fill:#03051a;\"/>\r\n    <path clip-path=\"url(#paab80bbdb7)\" d=\"M 117.622125 235.512 \r\nL 148.870125 235.512 \r\nL 148.870125 268.128 \r\nL 117.622125 268.128 \r\nL 117.622125 235.512 \r\n\" style=\"fill:#03051a;\"/>\r\n    <path clip-path=\"url(#paab80bbdb7)\" d=\"M 148.870125 235.512 \r\nL 180.118125 235.512 \r\nL 180.118125 268.128 \r\nL 148.870125 268.128 \r\nL 148.870125 235.512 \r\n\" style=\"fill:#03051a;\"/>\r\n    <path clip-path=\"url(#paab80bbdb7)\" d=\"M 180.118125 235.512 \r\nL 211.366125 235.512 \r\nL 211.366125 268.128 \r\nL 180.118125 268.128 \r\nL 180.118125 235.512 \r\n\" style=\"fill:#03051a;\"/>\r\n    <path clip-path=\"url(#paab80bbdb7)\" d=\"M 211.366125 235.512 \r\nL 242.614125 235.512 \r\nL 242.614125 268.128 \r\nL 211.366125 268.128 \r\nL 211.366125 235.512 \r\n\" style=\"fill:#03051a;\"/>\r\n    <path clip-path=\"url(#paab80bbdb7)\" d=\"M 242.614125 235.512 \r\nL 273.862125 235.512 \r\nL 273.862125 268.128 \r\nL 242.614125 268.128 \r\nL 242.614125 235.512 \r\n\" style=\"fill:#f6b089;\"/>\r\n    <path clip-path=\"url(#paab80bbdb7)\" d=\"M 273.862125 235.512 \r\nL 305.110125 235.512 \r\nL 305.110125 268.128 \r\nL 273.862125 268.128 \r\nL 273.862125 235.512 \r\n\" style=\"fill:#03051a;\"/>\r\n    <path clip-path=\"url(#paab80bbdb7)\" d=\"M 305.110125 235.512 \r\nL 336.358125 235.512 \r\nL 336.358125 268.128 \r\nL 305.110125 268.128 \r\nL 305.110125 235.512 \r\n\" style=\"fill:#03051a;\"/>\r\n    <path clip-path=\"url(#paab80bbdb7)\" d=\"M 23.878125 268.128 \r\nL 55.126125 268.128 \r\nL 55.126125 300.744 \r\nL 23.878125 300.744 \r\nL 23.878125 268.128 \r\n\" style=\"fill:#03051a;\"/>\r\n    <path clip-path=\"url(#paab80bbdb7)\" d=\"M 55.126125 268.128 \r\nL 86.374125 268.128 \r\nL 86.374125 300.744 \r\nL 55.126125 300.744 \r\nL 55.126125 268.128 \r\n\" style=\"fill:#03051a;\"/>\r\n    <path clip-path=\"url(#paab80bbdb7)\" d=\"M 86.374125 268.128 \r\nL 117.622125 268.128 \r\nL 117.622125 300.744 \r\nL 86.374125 300.744 \r\nL 86.374125 268.128 \r\n\" style=\"fill:#03051a;\"/>\r\n    <path clip-path=\"url(#paab80bbdb7)\" d=\"M 117.622125 268.128 \r\nL 148.870125 268.128 \r\nL 148.870125 300.744 \r\nL 117.622125 300.744 \r\nL 117.622125 268.128 \r\n\" style=\"fill:#03051a;\"/>\r\n    <path clip-path=\"url(#paab80bbdb7)\" d=\"M 148.870125 268.128 \r\nL 180.118125 268.128 \r\nL 180.118125 300.744 \r\nL 148.870125 300.744 \r\nL 148.870125 268.128 \r\n\" style=\"fill:#03051a;\"/>\r\n    <path clip-path=\"url(#paab80bbdb7)\" d=\"M 180.118125 268.128 \r\nL 211.366125 268.128 \r\nL 211.366125 300.744 \r\nL 180.118125 300.744 \r\nL 180.118125 268.128 \r\n\" style=\"fill:#03051a;\"/>\r\n    <path clip-path=\"url(#paab80bbdb7)\" d=\"M 211.366125 268.128 \r\nL 242.614125 268.128 \r\nL 242.614125 300.744 \r\nL 211.366125 300.744 \r\nL 211.366125 268.128 \r\n\" style=\"fill:#03051a;\"/>\r\n    <path clip-path=\"url(#paab80bbdb7)\" d=\"M 242.614125 268.128 \r\nL 273.862125 268.128 \r\nL 273.862125 300.744 \r\nL 242.614125 300.744 \r\nL 242.614125 268.128 \r\n\" style=\"fill:#03051a;\"/>\r\n    <path clip-path=\"url(#paab80bbdb7)\" d=\"M 273.862125 268.128 \r\nL 305.110125 268.128 \r\nL 305.110125 300.744 \r\nL 273.862125 300.744 \r\nL 273.862125 268.128 \r\n\" style=\"fill:#f8d4bc;\"/>\r\n    <path clip-path=\"url(#paab80bbdb7)\" d=\"M 305.110125 268.128 \r\nL 336.358125 268.128 \r\nL 336.358125 300.744 \r\nL 305.110125 300.744 \r\nL 305.110125 268.128 \r\n\" style=\"fill:#03051a;\"/>\r\n    <path clip-path=\"url(#paab80bbdb7)\" d=\"M 23.878125 300.744 \r\nL 55.126125 300.744 \r\nL 55.126125 333.36 \r\nL 23.878125 333.36 \r\nL 23.878125 300.744 \r\n\" style=\"fill:#03051a;\"/>\r\n    <path clip-path=\"url(#paab80bbdb7)\" d=\"M 55.126125 300.744 \r\nL 86.374125 300.744 \r\nL 86.374125 333.36 \r\nL 55.126125 333.36 \r\nL 55.126125 300.744 \r\n\" style=\"fill:#03051a;\"/>\r\n    <path clip-path=\"url(#paab80bbdb7)\" d=\"M 86.374125 300.744 \r\nL 117.622125 300.744 \r\nL 117.622125 333.36 \r\nL 86.374125 333.36 \r\nL 86.374125 300.744 \r\n\" style=\"fill:#03051a;\"/>\r\n    <path clip-path=\"url(#paab80bbdb7)\" d=\"M 117.622125 300.744 \r\nL 148.870125 300.744 \r\nL 148.870125 333.36 \r\nL 117.622125 333.36 \r\nL 117.622125 300.744 \r\n\" style=\"fill:#03051a;\"/>\r\n    <path clip-path=\"url(#paab80bbdb7)\" d=\"M 148.870125 300.744 \r\nL 180.118125 300.744 \r\nL 180.118125 333.36 \r\nL 148.870125 333.36 \r\nL 148.870125 300.744 \r\n\" style=\"fill:#03051a;\"/>\r\n    <path clip-path=\"url(#paab80bbdb7)\" d=\"M 180.118125 300.744 \r\nL 211.366125 300.744 \r\nL 211.366125 333.36 \r\nL 180.118125 333.36 \r\nL 180.118125 300.744 \r\n\" style=\"fill:#03051a;\"/>\r\n    <path clip-path=\"url(#paab80bbdb7)\" d=\"M 211.366125 300.744 \r\nL 242.614125 300.744 \r\nL 242.614125 333.36 \r\nL 211.366125 333.36 \r\nL 211.366125 300.744 \r\n\" style=\"fill:#03051a;\"/>\r\n    <path clip-path=\"url(#paab80bbdb7)\" d=\"M 242.614125 300.744 \r\nL 273.862125 300.744 \r\nL 273.862125 333.36 \r\nL 242.614125 333.36 \r\nL 242.614125 300.744 \r\n\" style=\"fill:#0d0a21;\"/>\r\n    <path clip-path=\"url(#paab80bbdb7)\" d=\"M 273.862125 300.744 \r\nL 305.110125 300.744 \r\nL 305.110125 333.36 \r\nL 273.862125 333.36 \r\nL 273.862125 300.744 \r\n\" style=\"fill:#03051a;\"/>\r\n    <path clip-path=\"url(#paab80bbdb7)\" d=\"M 305.110125 300.744 \r\nL 336.358125 300.744 \r\nL 336.358125 333.36 \r\nL 305.110125 333.36 \r\nL 305.110125 300.744 \r\n\" style=\"fill:#ec4c3e;\"/>\r\n   </g>\r\n   <g id=\"matplotlib.axis_1\">\r\n    <g id=\"xtick_1\">\r\n     <g id=\"line2d_1\">\r\n      <defs>\r\n       <path d=\"M 0 0 \r\nL 0 3.5 \r\n\" id=\"mc8a723b492\" style=\"stroke:#000000;stroke-width:0.8;\"/>\r\n      </defs>\r\n      <g>\r\n       <use style=\"stroke:#000000;stroke-width:0.8;\" x=\"39.502125\" xlink:href=\"#mc8a723b492\" y=\"333.36\"/>\r\n      </g>\r\n     </g>\r\n     <g id=\"text_1\">\r\n      <!-- 0 -->\r\n      <g transform=\"translate(36.320875 347.958438)scale(0.1 -0.1)\">\r\n       <defs>\r\n        <path d=\"M 31.78125 66.40625 \r\nQ 24.171875 66.40625 20.328125 58.90625 \r\nQ 16.5 51.421875 16.5 36.375 \r\nQ 16.5 21.390625 20.328125 13.890625 \r\nQ 24.171875 6.390625 31.78125 6.390625 \r\nQ 39.453125 6.390625 43.28125 13.890625 \r\nQ 47.125 21.390625 47.125 36.375 \r\nQ 47.125 51.421875 43.28125 58.90625 \r\nQ 39.453125 66.40625 31.78125 66.40625 \r\nz\r\nM 31.78125 74.21875 \r\nQ 44.046875 74.21875 50.515625 64.515625 \r\nQ 56.984375 54.828125 56.984375 36.375 \r\nQ 56.984375 17.96875 50.515625 8.265625 \r\nQ 44.046875 -1.421875 31.78125 -1.421875 \r\nQ 19.53125 -1.421875 13.0625 8.265625 \r\nQ 6.59375 17.96875 6.59375 36.375 \r\nQ 6.59375 54.828125 13.0625 64.515625 \r\nQ 19.53125 74.21875 31.78125 74.21875 \r\nz\r\n\" id=\"DejaVuSans-48\"/>\r\n       </defs>\r\n       <use xlink:href=\"#DejaVuSans-48\"/>\r\n      </g>\r\n     </g>\r\n    </g>\r\n    <g id=\"xtick_2\">\r\n     <g id=\"line2d_2\">\r\n      <g>\r\n       <use style=\"stroke:#000000;stroke-width:0.8;\" x=\"70.750125\" xlink:href=\"#mc8a723b492\" y=\"333.36\"/>\r\n      </g>\r\n     </g>\r\n     <g id=\"text_2\">\r\n      <!-- 1 -->\r\n      <g transform=\"translate(67.568875 347.958438)scale(0.1 -0.1)\">\r\n       <defs>\r\n        <path d=\"M 12.40625 8.296875 \r\nL 28.515625 8.296875 \r\nL 28.515625 63.921875 \r\nL 10.984375 60.40625 \r\nL 10.984375 69.390625 \r\nL 28.421875 72.90625 \r\nL 38.28125 72.90625 \r\nL 38.28125 8.296875 \r\nL 54.390625 8.296875 \r\nL 54.390625 0 \r\nL 12.40625 0 \r\nz\r\n\" id=\"DejaVuSans-49\"/>\r\n       </defs>\r\n       <use xlink:href=\"#DejaVuSans-49\"/>\r\n      </g>\r\n     </g>\r\n    </g>\r\n    <g id=\"xtick_3\">\r\n     <g id=\"line2d_3\">\r\n      <g>\r\n       <use style=\"stroke:#000000;stroke-width:0.8;\" x=\"101.998125\" xlink:href=\"#mc8a723b492\" y=\"333.36\"/>\r\n      </g>\r\n     </g>\r\n     <g id=\"text_3\">\r\n      <!-- 2 -->\r\n      <g transform=\"translate(98.816875 347.958438)scale(0.1 -0.1)\">\r\n       <defs>\r\n        <path d=\"M 19.1875 8.296875 \r\nL 53.609375 8.296875 \r\nL 53.609375 0 \r\nL 7.328125 0 \r\nL 7.328125 8.296875 \r\nQ 12.9375 14.109375 22.625 23.890625 \r\nQ 32.328125 33.6875 34.8125 36.53125 \r\nQ 39.546875 41.84375 41.421875 45.53125 \r\nQ 43.3125 49.21875 43.3125 52.78125 \r\nQ 43.3125 58.59375 39.234375 62.25 \r\nQ 35.15625 65.921875 28.609375 65.921875 \r\nQ 23.96875 65.921875 18.8125 64.3125 \r\nQ 13.671875 62.703125 7.8125 59.421875 \r\nL 7.8125 69.390625 \r\nQ 13.765625 71.78125 18.9375 73 \r\nQ 24.125 74.21875 28.421875 74.21875 \r\nQ 39.75 74.21875 46.484375 68.546875 \r\nQ 53.21875 62.890625 53.21875 53.421875 \r\nQ 53.21875 48.921875 51.53125 44.890625 \r\nQ 49.859375 40.875 45.40625 35.40625 \r\nQ 44.1875 33.984375 37.640625 27.21875 \r\nQ 31.109375 20.453125 19.1875 8.296875 \r\nz\r\n\" id=\"DejaVuSans-50\"/>\r\n       </defs>\r\n       <use xlink:href=\"#DejaVuSans-50\"/>\r\n      </g>\r\n     </g>\r\n    </g>\r\n    <g id=\"xtick_4\">\r\n     <g id=\"line2d_4\">\r\n      <g>\r\n       <use style=\"stroke:#000000;stroke-width:0.8;\" x=\"133.246125\" xlink:href=\"#mc8a723b492\" y=\"333.36\"/>\r\n      </g>\r\n     </g>\r\n     <g id=\"text_4\">\r\n      <!-- 3 -->\r\n      <g transform=\"translate(130.064875 347.958438)scale(0.1 -0.1)\">\r\n       <defs>\r\n        <path d=\"M 40.578125 39.3125 \r\nQ 47.65625 37.796875 51.625 33 \r\nQ 55.609375 28.21875 55.609375 21.1875 \r\nQ 55.609375 10.40625 48.1875 4.484375 \r\nQ 40.765625 -1.421875 27.09375 -1.421875 \r\nQ 22.515625 -1.421875 17.65625 -0.515625 \r\nQ 12.796875 0.390625 7.625 2.203125 \r\nL 7.625 11.71875 \r\nQ 11.71875 9.328125 16.59375 8.109375 \r\nQ 21.484375 6.890625 26.8125 6.890625 \r\nQ 36.078125 6.890625 40.9375 10.546875 \r\nQ 45.796875 14.203125 45.796875 21.1875 \r\nQ 45.796875 27.640625 41.28125 31.265625 \r\nQ 36.765625 34.90625 28.71875 34.90625 \r\nL 20.21875 34.90625 \r\nL 20.21875 43.015625 \r\nL 29.109375 43.015625 \r\nQ 36.375 43.015625 40.234375 45.921875 \r\nQ 44.09375 48.828125 44.09375 54.296875 \r\nQ 44.09375 59.90625 40.109375 62.90625 \r\nQ 36.140625 65.921875 28.71875 65.921875 \r\nQ 24.65625 65.921875 20.015625 65.03125 \r\nQ 15.375 64.15625 9.8125 62.3125 \r\nL 9.8125 71.09375 \r\nQ 15.4375 72.65625 20.34375 73.4375 \r\nQ 25.25 74.21875 29.59375 74.21875 \r\nQ 40.828125 74.21875 47.359375 69.109375 \r\nQ 53.90625 64.015625 53.90625 55.328125 \r\nQ 53.90625 49.265625 50.4375 45.09375 \r\nQ 46.96875 40.921875 40.578125 39.3125 \r\nz\r\n\" id=\"DejaVuSans-51\"/>\r\n       </defs>\r\n       <use xlink:href=\"#DejaVuSans-51\"/>\r\n      </g>\r\n     </g>\r\n    </g>\r\n    <g id=\"xtick_5\">\r\n     <g id=\"line2d_5\">\r\n      <g>\r\n       <use style=\"stroke:#000000;stroke-width:0.8;\" x=\"164.494125\" xlink:href=\"#mc8a723b492\" y=\"333.36\"/>\r\n      </g>\r\n     </g>\r\n     <g id=\"text_5\">\r\n      <!-- 4 -->\r\n      <g transform=\"translate(161.312875 347.958438)scale(0.1 -0.1)\">\r\n       <defs>\r\n        <path d=\"M 37.796875 64.3125 \r\nL 12.890625 25.390625 \r\nL 37.796875 25.390625 \r\nz\r\nM 35.203125 72.90625 \r\nL 47.609375 72.90625 \r\nL 47.609375 25.390625 \r\nL 58.015625 25.390625 \r\nL 58.015625 17.1875 \r\nL 47.609375 17.1875 \r\nL 47.609375 0 \r\nL 37.796875 0 \r\nL 37.796875 17.1875 \r\nL 4.890625 17.1875 \r\nL 4.890625 26.703125 \r\nz\r\n\" id=\"DejaVuSans-52\"/>\r\n       </defs>\r\n       <use xlink:href=\"#DejaVuSans-52\"/>\r\n      </g>\r\n     </g>\r\n    </g>\r\n    <g id=\"xtick_6\">\r\n     <g id=\"line2d_6\">\r\n      <g>\r\n       <use style=\"stroke:#000000;stroke-width:0.8;\" x=\"195.742125\" xlink:href=\"#mc8a723b492\" y=\"333.36\"/>\r\n      </g>\r\n     </g>\r\n     <g id=\"text_6\">\r\n      <!-- 5 -->\r\n      <g transform=\"translate(192.560875 347.958438)scale(0.1 -0.1)\">\r\n       <defs>\r\n        <path d=\"M 10.796875 72.90625 \r\nL 49.515625 72.90625 \r\nL 49.515625 64.59375 \r\nL 19.828125 64.59375 \r\nL 19.828125 46.734375 \r\nQ 21.96875 47.46875 24.109375 47.828125 \r\nQ 26.265625 48.1875 28.421875 48.1875 \r\nQ 40.625 48.1875 47.75 41.5 \r\nQ 54.890625 34.8125 54.890625 23.390625 \r\nQ 54.890625 11.625 47.5625 5.09375 \r\nQ 40.234375 -1.421875 26.90625 -1.421875 \r\nQ 22.3125 -1.421875 17.546875 -0.640625 \r\nQ 12.796875 0.140625 7.71875 1.703125 \r\nL 7.71875 11.625 \r\nQ 12.109375 9.234375 16.796875 8.0625 \r\nQ 21.484375 6.890625 26.703125 6.890625 \r\nQ 35.15625 6.890625 40.078125 11.328125 \r\nQ 45.015625 15.765625 45.015625 23.390625 \r\nQ 45.015625 31 40.078125 35.4375 \r\nQ 35.15625 39.890625 26.703125 39.890625 \r\nQ 22.75 39.890625 18.8125 39.015625 \r\nQ 14.890625 38.140625 10.796875 36.28125 \r\nz\r\n\" id=\"DejaVuSans-53\"/>\r\n       </defs>\r\n       <use xlink:href=\"#DejaVuSans-53\"/>\r\n      </g>\r\n     </g>\r\n    </g>\r\n    <g id=\"xtick_7\">\r\n     <g id=\"line2d_7\">\r\n      <g>\r\n       <use style=\"stroke:#000000;stroke-width:0.8;\" x=\"226.990125\" xlink:href=\"#mc8a723b492\" y=\"333.36\"/>\r\n      </g>\r\n     </g>\r\n     <g id=\"text_7\">\r\n      <!-- 6 -->\r\n      <g transform=\"translate(223.808875 347.958438)scale(0.1 -0.1)\">\r\n       <defs>\r\n        <path d=\"M 33.015625 40.375 \r\nQ 26.375 40.375 22.484375 35.828125 \r\nQ 18.609375 31.296875 18.609375 23.390625 \r\nQ 18.609375 15.53125 22.484375 10.953125 \r\nQ 26.375 6.390625 33.015625 6.390625 \r\nQ 39.65625 6.390625 43.53125 10.953125 \r\nQ 47.40625 15.53125 47.40625 23.390625 \r\nQ 47.40625 31.296875 43.53125 35.828125 \r\nQ 39.65625 40.375 33.015625 40.375 \r\nz\r\nM 52.59375 71.296875 \r\nL 52.59375 62.3125 \r\nQ 48.875 64.0625 45.09375 64.984375 \r\nQ 41.3125 65.921875 37.59375 65.921875 \r\nQ 27.828125 65.921875 22.671875 59.328125 \r\nQ 17.53125 52.734375 16.796875 39.40625 \r\nQ 19.671875 43.65625 24.015625 45.921875 \r\nQ 28.375 48.1875 33.59375 48.1875 \r\nQ 44.578125 48.1875 50.953125 41.515625 \r\nQ 57.328125 34.859375 57.328125 23.390625 \r\nQ 57.328125 12.15625 50.6875 5.359375 \r\nQ 44.046875 -1.421875 33.015625 -1.421875 \r\nQ 20.359375 -1.421875 13.671875 8.265625 \r\nQ 6.984375 17.96875 6.984375 36.375 \r\nQ 6.984375 53.65625 15.1875 63.9375 \r\nQ 23.390625 74.21875 37.203125 74.21875 \r\nQ 40.921875 74.21875 44.703125 73.484375 \r\nQ 48.484375 72.75 52.59375 71.296875 \r\nz\r\n\" id=\"DejaVuSans-54\"/>\r\n       </defs>\r\n       <use xlink:href=\"#DejaVuSans-54\"/>\r\n      </g>\r\n     </g>\r\n    </g>\r\n    <g id=\"xtick_8\">\r\n     <g id=\"line2d_8\">\r\n      <g>\r\n       <use style=\"stroke:#000000;stroke-width:0.8;\" x=\"258.238125\" xlink:href=\"#mc8a723b492\" y=\"333.36\"/>\r\n      </g>\r\n     </g>\r\n     <g id=\"text_8\">\r\n      <!-- 7 -->\r\n      <g transform=\"translate(255.056875 347.958438)scale(0.1 -0.1)\">\r\n       <defs>\r\n        <path d=\"M 8.203125 72.90625 \r\nL 55.078125 72.90625 \r\nL 55.078125 68.703125 \r\nL 28.609375 0 \r\nL 18.3125 0 \r\nL 43.21875 64.59375 \r\nL 8.203125 64.59375 \r\nz\r\n\" id=\"DejaVuSans-55\"/>\r\n       </defs>\r\n       <use xlink:href=\"#DejaVuSans-55\"/>\r\n      </g>\r\n     </g>\r\n    </g>\r\n    <g id=\"xtick_9\">\r\n     <g id=\"line2d_9\">\r\n      <g>\r\n       <use style=\"stroke:#000000;stroke-width:0.8;\" x=\"289.486125\" xlink:href=\"#mc8a723b492\" y=\"333.36\"/>\r\n      </g>\r\n     </g>\r\n     <g id=\"text_9\">\r\n      <!-- 8 -->\r\n      <g transform=\"translate(286.304875 347.958438)scale(0.1 -0.1)\">\r\n       <defs>\r\n        <path d=\"M 31.78125 34.625 \r\nQ 24.75 34.625 20.71875 30.859375 \r\nQ 16.703125 27.09375 16.703125 20.515625 \r\nQ 16.703125 13.921875 20.71875 10.15625 \r\nQ 24.75 6.390625 31.78125 6.390625 \r\nQ 38.8125 6.390625 42.859375 10.171875 \r\nQ 46.921875 13.96875 46.921875 20.515625 \r\nQ 46.921875 27.09375 42.890625 30.859375 \r\nQ 38.875 34.625 31.78125 34.625 \r\nz\r\nM 21.921875 38.8125 \r\nQ 15.578125 40.375 12.03125 44.71875 \r\nQ 8.5 49.078125 8.5 55.328125 \r\nQ 8.5 64.0625 14.71875 69.140625 \r\nQ 20.953125 74.21875 31.78125 74.21875 \r\nQ 42.671875 74.21875 48.875 69.140625 \r\nQ 55.078125 64.0625 55.078125 55.328125 \r\nQ 55.078125 49.078125 51.53125 44.71875 \r\nQ 48 40.375 41.703125 38.8125 \r\nQ 48.828125 37.15625 52.796875 32.3125 \r\nQ 56.78125 27.484375 56.78125 20.515625 \r\nQ 56.78125 9.90625 50.3125 4.234375 \r\nQ 43.84375 -1.421875 31.78125 -1.421875 \r\nQ 19.734375 -1.421875 13.25 4.234375 \r\nQ 6.78125 9.90625 6.78125 20.515625 \r\nQ 6.78125 27.484375 10.78125 32.3125 \r\nQ 14.796875 37.15625 21.921875 38.8125 \r\nz\r\nM 18.3125 54.390625 \r\nQ 18.3125 48.734375 21.84375 45.5625 \r\nQ 25.390625 42.390625 31.78125 42.390625 \r\nQ 38.140625 42.390625 41.71875 45.5625 \r\nQ 45.3125 48.734375 45.3125 54.390625 \r\nQ 45.3125 60.0625 41.71875 63.234375 \r\nQ 38.140625 66.40625 31.78125 66.40625 \r\nQ 25.390625 66.40625 21.84375 63.234375 \r\nQ 18.3125 60.0625 18.3125 54.390625 \r\nz\r\n\" id=\"DejaVuSans-56\"/>\r\n       </defs>\r\n       <use xlink:href=\"#DejaVuSans-56\"/>\r\n      </g>\r\n     </g>\r\n    </g>\r\n    <g id=\"xtick_10\">\r\n     <g id=\"line2d_10\">\r\n      <g>\r\n       <use style=\"stroke:#000000;stroke-width:0.8;\" x=\"320.734125\" xlink:href=\"#mc8a723b492\" y=\"333.36\"/>\r\n      </g>\r\n     </g>\r\n     <g id=\"text_10\">\r\n      <!-- 9 -->\r\n      <g transform=\"translate(317.552875 347.958438)scale(0.1 -0.1)\">\r\n       <defs>\r\n        <path d=\"M 10.984375 1.515625 \r\nL 10.984375 10.5 \r\nQ 14.703125 8.734375 18.5 7.8125 \r\nQ 22.3125 6.890625 25.984375 6.890625 \r\nQ 35.75 6.890625 40.890625 13.453125 \r\nQ 46.046875 20.015625 46.78125 33.40625 \r\nQ 43.953125 29.203125 39.59375 26.953125 \r\nQ 35.25 24.703125 29.984375 24.703125 \r\nQ 19.046875 24.703125 12.671875 31.3125 \r\nQ 6.296875 37.9375 6.296875 49.421875 \r\nQ 6.296875 60.640625 12.9375 67.421875 \r\nQ 19.578125 74.21875 30.609375 74.21875 \r\nQ 43.265625 74.21875 49.921875 64.515625 \r\nQ 56.59375 54.828125 56.59375 36.375 \r\nQ 56.59375 19.140625 48.40625 8.859375 \r\nQ 40.234375 -1.421875 26.421875 -1.421875 \r\nQ 22.703125 -1.421875 18.890625 -0.6875 \r\nQ 15.09375 0.046875 10.984375 1.515625 \r\nz\r\nM 30.609375 32.421875 \r\nQ 37.25 32.421875 41.125 36.953125 \r\nQ 45.015625 41.5 45.015625 49.421875 \r\nQ 45.015625 57.28125 41.125 61.84375 \r\nQ 37.25 66.40625 30.609375 66.40625 \r\nQ 23.96875 66.40625 20.09375 61.84375 \r\nQ 16.21875 57.28125 16.21875 49.421875 \r\nQ 16.21875 41.5 20.09375 36.953125 \r\nQ 23.96875 32.421875 30.609375 32.421875 \r\nz\r\n\" id=\"DejaVuSans-57\"/>\r\n       </defs>\r\n       <use xlink:href=\"#DejaVuSans-57\"/>\r\n      </g>\r\n     </g>\r\n    </g>\r\n   </g>\r\n   <g id=\"matplotlib.axis_2\">\r\n    <g id=\"ytick_1\">\r\n     <g id=\"line2d_11\">\r\n      <defs>\r\n       <path d=\"M 0 0 \r\nL -3.5 0 \r\n\" id=\"m0c74af55dd\" style=\"stroke:#000000;stroke-width:0.8;\"/>\r\n      </defs>\r\n      <g>\r\n       <use style=\"stroke:#000000;stroke-width:0.8;\" x=\"23.878125\" xlink:href=\"#m0c74af55dd\" y=\"23.508\"/>\r\n      </g>\r\n     </g>\r\n     <g id=\"text_11\">\r\n      <!-- 0 -->\r\n      <g transform=\"translate(14.798438 26.071281)rotate(-90)scale(0.1 -0.1)\">\r\n       <use xlink:href=\"#DejaVuSans-48\"/>\r\n      </g>\r\n     </g>\r\n    </g>\r\n    <g id=\"ytick_2\">\r\n     <g id=\"line2d_12\">\r\n      <g>\r\n       <use style=\"stroke:#000000;stroke-width:0.8;\" x=\"23.878125\" xlink:href=\"#m0c74af55dd\" y=\"56.124\"/>\r\n      </g>\r\n     </g>\r\n     <g id=\"text_12\">\r\n      <!-- 1 -->\r\n      <g transform=\"translate(14.798438 58.687281)rotate(-90)scale(0.1 -0.1)\">\r\n       <use xlink:href=\"#DejaVuSans-49\"/>\r\n      </g>\r\n     </g>\r\n    </g>\r\n    <g id=\"ytick_3\">\r\n     <g id=\"line2d_13\">\r\n      <g>\r\n       <use style=\"stroke:#000000;stroke-width:0.8;\" x=\"23.878125\" xlink:href=\"#m0c74af55dd\" y=\"88.74\"/>\r\n      </g>\r\n     </g>\r\n     <g id=\"text_13\">\r\n      <!-- 2 -->\r\n      <g transform=\"translate(14.798438 91.303281)rotate(-90)scale(0.1 -0.1)\">\r\n       <use xlink:href=\"#DejaVuSans-50\"/>\r\n      </g>\r\n     </g>\r\n    </g>\r\n    <g id=\"ytick_4\">\r\n     <g id=\"line2d_14\">\r\n      <g>\r\n       <use style=\"stroke:#000000;stroke-width:0.8;\" x=\"23.878125\" xlink:href=\"#m0c74af55dd\" y=\"121.356\"/>\r\n      </g>\r\n     </g>\r\n     <g id=\"text_14\">\r\n      <!-- 3 -->\r\n      <g transform=\"translate(14.798438 123.919281)rotate(-90)scale(0.1 -0.1)\">\r\n       <use xlink:href=\"#DejaVuSans-51\"/>\r\n      </g>\r\n     </g>\r\n    </g>\r\n    <g id=\"ytick_5\">\r\n     <g id=\"line2d_15\">\r\n      <g>\r\n       <use style=\"stroke:#000000;stroke-width:0.8;\" x=\"23.878125\" xlink:href=\"#m0c74af55dd\" y=\"153.972\"/>\r\n      </g>\r\n     </g>\r\n     <g id=\"text_15\">\r\n      <!-- 4 -->\r\n      <g transform=\"translate(14.798438 156.535281)rotate(-90)scale(0.1 -0.1)\">\r\n       <use xlink:href=\"#DejaVuSans-52\"/>\r\n      </g>\r\n     </g>\r\n    </g>\r\n    <g id=\"ytick_6\">\r\n     <g id=\"line2d_16\">\r\n      <g>\r\n       <use style=\"stroke:#000000;stroke-width:0.8;\" x=\"23.878125\" xlink:href=\"#m0c74af55dd\" y=\"186.588\"/>\r\n      </g>\r\n     </g>\r\n     <g id=\"text_16\">\r\n      <!-- 5 -->\r\n      <g transform=\"translate(14.798438 189.151281)rotate(-90)scale(0.1 -0.1)\">\r\n       <use xlink:href=\"#DejaVuSans-53\"/>\r\n      </g>\r\n     </g>\r\n    </g>\r\n    <g id=\"ytick_7\">\r\n     <g id=\"line2d_17\">\r\n      <g>\r\n       <use style=\"stroke:#000000;stroke-width:0.8;\" x=\"23.878125\" xlink:href=\"#m0c74af55dd\" y=\"219.204\"/>\r\n      </g>\r\n     </g>\r\n     <g id=\"text_17\">\r\n      <!-- 6 -->\r\n      <g transform=\"translate(14.798438 221.767281)rotate(-90)scale(0.1 -0.1)\">\r\n       <use xlink:href=\"#DejaVuSans-54\"/>\r\n      </g>\r\n     </g>\r\n    </g>\r\n    <g id=\"ytick_8\">\r\n     <g id=\"line2d_18\">\r\n      <g>\r\n       <use style=\"stroke:#000000;stroke-width:0.8;\" x=\"23.878125\" xlink:href=\"#m0c74af55dd\" y=\"251.82\"/>\r\n      </g>\r\n     </g>\r\n     <g id=\"text_18\">\r\n      <!-- 7 -->\r\n      <g transform=\"translate(14.798438 254.383281)rotate(-90)scale(0.1 -0.1)\">\r\n       <use xlink:href=\"#DejaVuSans-55\"/>\r\n      </g>\r\n     </g>\r\n    </g>\r\n    <g id=\"ytick_9\">\r\n     <g id=\"line2d_19\">\r\n      <g>\r\n       <use style=\"stroke:#000000;stroke-width:0.8;\" x=\"23.878125\" xlink:href=\"#m0c74af55dd\" y=\"284.436\"/>\r\n      </g>\r\n     </g>\r\n     <g id=\"text_19\">\r\n      <!-- 8 -->\r\n      <g transform=\"translate(14.798438 286.999281)rotate(-90)scale(0.1 -0.1)\">\r\n       <use xlink:href=\"#DejaVuSans-56\"/>\r\n      </g>\r\n     </g>\r\n    </g>\r\n    <g id=\"ytick_10\">\r\n     <g id=\"line2d_20\">\r\n      <g>\r\n       <use style=\"stroke:#000000;stroke-width:0.8;\" x=\"23.878125\" xlink:href=\"#m0c74af55dd\" y=\"317.052\"/>\r\n      </g>\r\n     </g>\r\n     <g id=\"text_20\">\r\n      <!-- 9 -->\r\n      <g transform=\"translate(14.798438 319.615281)rotate(-90)scale(0.1 -0.1)\">\r\n       <use xlink:href=\"#DejaVuSans-57\"/>\r\n      </g>\r\n     </g>\r\n    </g>\r\n   </g>\r\n   <g id=\"text_21\">\r\n    <!-- 28 -->\r\n    <g style=\"fill:#262626;\" transform=\"translate(33.139625 26.267375)scale(0.1 -0.1)\">\r\n     <use xlink:href=\"#DejaVuSans-50\"/>\r\n     <use x=\"63.623047\" xlink:href=\"#DejaVuSans-56\"/>\r\n    </g>\r\n   </g>\r\n   <g id=\"text_22\">\r\n    <!-- 0 -->\r\n    <g style=\"fill:#ffffff;\" transform=\"translate(67.568875 26.267375)scale(0.1 -0.1)\">\r\n     <use xlink:href=\"#DejaVuSans-48\"/>\r\n    </g>\r\n   </g>\r\n   <g id=\"text_23\">\r\n    <!-- 0 -->\r\n    <g style=\"fill:#ffffff;\" transform=\"translate(98.816875 26.267375)scale(0.1 -0.1)\">\r\n     <use xlink:href=\"#DejaVuSans-48\"/>\r\n    </g>\r\n   </g>\r\n   <g id=\"text_24\">\r\n    <!-- 0 -->\r\n    <g style=\"fill:#ffffff;\" transform=\"translate(130.064875 26.267375)scale(0.1 -0.1)\">\r\n     <use xlink:href=\"#DejaVuSans-48\"/>\r\n    </g>\r\n   </g>\r\n   <g id=\"text_25\">\r\n    <!-- 0 -->\r\n    <g style=\"fill:#ffffff;\" transform=\"translate(161.312875 26.267375)scale(0.1 -0.1)\">\r\n     <use xlink:href=\"#DejaVuSans-48\"/>\r\n    </g>\r\n   </g>\r\n   <g id=\"text_26\">\r\n    <!-- 0 -->\r\n    <g style=\"fill:#ffffff;\" transform=\"translate(192.560875 26.267375)scale(0.1 -0.1)\">\r\n     <use xlink:href=\"#DejaVuSans-48\"/>\r\n    </g>\r\n   </g>\r\n   <g id=\"text_27\">\r\n    <!-- 0 -->\r\n    <g style=\"fill:#ffffff;\" transform=\"translate(223.808875 26.267375)scale(0.1 -0.1)\">\r\n     <use xlink:href=\"#DejaVuSans-48\"/>\r\n    </g>\r\n   </g>\r\n   <g id=\"text_28\">\r\n    <!-- 0 -->\r\n    <g style=\"fill:#ffffff;\" transform=\"translate(255.056875 26.267375)scale(0.1 -0.1)\">\r\n     <use xlink:href=\"#DejaVuSans-48\"/>\r\n    </g>\r\n   </g>\r\n   <g id=\"text_29\">\r\n    <!-- 0 -->\r\n    <g style=\"fill:#ffffff;\" transform=\"translate(286.304875 26.267375)scale(0.1 -0.1)\">\r\n     <use xlink:href=\"#DejaVuSans-48\"/>\r\n    </g>\r\n   </g>\r\n   <g id=\"text_30\">\r\n    <!-- 0 -->\r\n    <g style=\"fill:#ffffff;\" transform=\"translate(317.552875 26.267375)scale(0.1 -0.1)\">\r\n     <use xlink:href=\"#DejaVuSans-48\"/>\r\n    </g>\r\n   </g>\r\n   <g id=\"text_31\">\r\n    <!-- 0 -->\r\n    <g style=\"fill:#ffffff;\" transform=\"translate(36.320875 58.883375)scale(0.1 -0.1)\">\r\n     <use xlink:href=\"#DejaVuSans-48\"/>\r\n    </g>\r\n   </g>\r\n   <g id=\"text_32\">\r\n    <!-- 20 -->\r\n    <g style=\"fill:#ffffff;\" transform=\"translate(64.387625 58.883375)scale(0.1 -0.1)\">\r\n     <use xlink:href=\"#DejaVuSans-50\"/>\r\n     <use x=\"63.623047\" xlink:href=\"#DejaVuSans-48\"/>\r\n    </g>\r\n   </g>\r\n   <g id=\"text_33\">\r\n    <!-- 0 -->\r\n    <g style=\"fill:#ffffff;\" transform=\"translate(98.816875 58.883375)scale(0.1 -0.1)\">\r\n     <use xlink:href=\"#DejaVuSans-48\"/>\r\n    </g>\r\n   </g>\r\n   <g id=\"text_34\">\r\n    <!-- 0 -->\r\n    <g style=\"fill:#ffffff;\" transform=\"translate(130.064875 58.883375)scale(0.1 -0.1)\">\r\n     <use xlink:href=\"#DejaVuSans-48\"/>\r\n    </g>\r\n   </g>\r\n   <g id=\"text_35\">\r\n    <!-- 0 -->\r\n    <g style=\"fill:#ffffff;\" transform=\"translate(161.312875 58.883375)scale(0.1 -0.1)\">\r\n     <use xlink:href=\"#DejaVuSans-48\"/>\r\n    </g>\r\n   </g>\r\n   <g id=\"text_36\">\r\n    <!-- 0 -->\r\n    <g style=\"fill:#ffffff;\" transform=\"translate(192.560875 58.883375)scale(0.1 -0.1)\">\r\n     <use xlink:href=\"#DejaVuSans-48\"/>\r\n    </g>\r\n   </g>\r\n   <g id=\"text_37\">\r\n    <!-- 0 -->\r\n    <g style=\"fill:#ffffff;\" transform=\"translate(223.808875 58.883375)scale(0.1 -0.1)\">\r\n     <use xlink:href=\"#DejaVuSans-48\"/>\r\n    </g>\r\n   </g>\r\n   <g id=\"text_38\">\r\n    <!-- 0 -->\r\n    <g style=\"fill:#ffffff;\" transform=\"translate(255.056875 58.883375)scale(0.1 -0.1)\">\r\n     <use xlink:href=\"#DejaVuSans-48\"/>\r\n    </g>\r\n   </g>\r\n   <g id=\"text_39\">\r\n    <!-- 0 -->\r\n    <g style=\"fill:#ffffff;\" transform=\"translate(286.304875 58.883375)scale(0.1 -0.1)\">\r\n     <use xlink:href=\"#DejaVuSans-48\"/>\r\n    </g>\r\n   </g>\r\n   <g id=\"text_40\">\r\n    <!-- 0 -->\r\n    <g style=\"fill:#ffffff;\" transform=\"translate(317.552875 58.883375)scale(0.1 -0.1)\">\r\n     <use xlink:href=\"#DejaVuSans-48\"/>\r\n    </g>\r\n   </g>\r\n   <g id=\"text_41\">\r\n    <!-- 0 -->\r\n    <g style=\"fill:#ffffff;\" transform=\"translate(36.320875 91.499375)scale(0.1 -0.1)\">\r\n     <use xlink:href=\"#DejaVuSans-48\"/>\r\n    </g>\r\n   </g>\r\n   <g id=\"text_42\">\r\n    <!-- 0 -->\r\n    <g style=\"fill:#ffffff;\" transform=\"translate(67.568875 91.499375)scale(0.1 -0.1)\">\r\n     <use xlink:href=\"#DejaVuSans-48\"/>\r\n    </g>\r\n   </g>\r\n   <g id=\"text_43\">\r\n    <!-- 27 -->\r\n    <g style=\"fill:#262626;\" transform=\"translate(95.635625 91.499375)scale(0.1 -0.1)\">\r\n     <use xlink:href=\"#DejaVuSans-50\"/>\r\n     <use x=\"63.623047\" xlink:href=\"#DejaVuSans-55\"/>\r\n    </g>\r\n   </g>\r\n   <g id=\"text_44\">\r\n    <!-- 0 -->\r\n    <g style=\"fill:#ffffff;\" transform=\"translate(130.064875 91.499375)scale(0.1 -0.1)\">\r\n     <use xlink:href=\"#DejaVuSans-48\"/>\r\n    </g>\r\n   </g>\r\n   <g id=\"text_45\">\r\n    <!-- 0 -->\r\n    <g style=\"fill:#ffffff;\" transform=\"translate(161.312875 91.499375)scale(0.1 -0.1)\">\r\n     <use xlink:href=\"#DejaVuSans-48\"/>\r\n    </g>\r\n   </g>\r\n   <g id=\"text_46\">\r\n    <!-- 0 -->\r\n    <g style=\"fill:#ffffff;\" transform=\"translate(192.560875 91.499375)scale(0.1 -0.1)\">\r\n     <use xlink:href=\"#DejaVuSans-48\"/>\r\n    </g>\r\n   </g>\r\n   <g id=\"text_47\">\r\n    <!-- 0 -->\r\n    <g style=\"fill:#ffffff;\" transform=\"translate(223.808875 91.499375)scale(0.1 -0.1)\">\r\n     <use xlink:href=\"#DejaVuSans-48\"/>\r\n    </g>\r\n   </g>\r\n   <g id=\"text_48\">\r\n    <!-- 0 -->\r\n    <g style=\"fill:#ffffff;\" transform=\"translate(255.056875 91.499375)scale(0.1 -0.1)\">\r\n     <use xlink:href=\"#DejaVuSans-48\"/>\r\n    </g>\r\n   </g>\r\n   <g id=\"text_49\">\r\n    <!-- 0 -->\r\n    <g style=\"fill:#ffffff;\" transform=\"translate(286.304875 91.499375)scale(0.1 -0.1)\">\r\n     <use xlink:href=\"#DejaVuSans-48\"/>\r\n    </g>\r\n   </g>\r\n   <g id=\"text_50\">\r\n    <!-- 0 -->\r\n    <g style=\"fill:#ffffff;\" transform=\"translate(317.552875 91.499375)scale(0.1 -0.1)\">\r\n     <use xlink:href=\"#DejaVuSans-48\"/>\r\n    </g>\r\n   </g>\r\n   <g id=\"text_51\">\r\n    <!-- 0 -->\r\n    <g style=\"fill:#ffffff;\" transform=\"translate(36.320875 124.115375)scale(0.1 -0.1)\">\r\n     <use xlink:href=\"#DejaVuSans-48\"/>\r\n    </g>\r\n   </g>\r\n   <g id=\"text_52\">\r\n    <!-- 0 -->\r\n    <g style=\"fill:#ffffff;\" transform=\"translate(67.568875 124.115375)scale(0.1 -0.1)\">\r\n     <use xlink:href=\"#DejaVuSans-48\"/>\r\n    </g>\r\n   </g>\r\n   <g id=\"text_53\">\r\n    <!-- 0 -->\r\n    <g style=\"fill:#ffffff;\" transform=\"translate(98.816875 124.115375)scale(0.1 -0.1)\">\r\n     <use xlink:href=\"#DejaVuSans-48\"/>\r\n    </g>\r\n   </g>\r\n   <g id=\"text_54\">\r\n    <!-- 29 -->\r\n    <g style=\"fill:#262626;\" transform=\"translate(126.883625 124.115375)scale(0.1 -0.1)\">\r\n     <use xlink:href=\"#DejaVuSans-50\"/>\r\n     <use x=\"63.623047\" xlink:href=\"#DejaVuSans-57\"/>\r\n    </g>\r\n   </g>\r\n   <g id=\"text_55\">\r\n    <!-- 0 -->\r\n    <g style=\"fill:#ffffff;\" transform=\"translate(161.312875 124.115375)scale(0.1 -0.1)\">\r\n     <use xlink:href=\"#DejaVuSans-48\"/>\r\n    </g>\r\n   </g>\r\n   <g id=\"text_56\">\r\n    <!-- 0 -->\r\n    <g style=\"fill:#ffffff;\" transform=\"translate(192.560875 124.115375)scale(0.1 -0.1)\">\r\n     <use xlink:href=\"#DejaVuSans-48\"/>\r\n    </g>\r\n   </g>\r\n   <g id=\"text_57\">\r\n    <!-- 0 -->\r\n    <g style=\"fill:#ffffff;\" transform=\"translate(223.808875 124.115375)scale(0.1 -0.1)\">\r\n     <use xlink:href=\"#DejaVuSans-48\"/>\r\n    </g>\r\n   </g>\r\n   <g id=\"text_58\">\r\n    <!-- 0 -->\r\n    <g style=\"fill:#ffffff;\" transform=\"translate(255.056875 124.115375)scale(0.1 -0.1)\">\r\n     <use xlink:href=\"#DejaVuSans-48\"/>\r\n    </g>\r\n   </g>\r\n   <g id=\"text_59\">\r\n    <!-- 0 -->\r\n    <g style=\"fill:#ffffff;\" transform=\"translate(286.304875 124.115375)scale(0.1 -0.1)\">\r\n     <use xlink:href=\"#DejaVuSans-48\"/>\r\n    </g>\r\n   </g>\r\n   <g id=\"text_60\">\r\n    <!-- 0 -->\r\n    <g style=\"fill:#ffffff;\" transform=\"translate(317.552875 124.115375)scale(0.1 -0.1)\">\r\n     <use xlink:href=\"#DejaVuSans-48\"/>\r\n    </g>\r\n   </g>\r\n   <g id=\"text_61\">\r\n    <!-- 0 -->\r\n    <g style=\"fill:#ffffff;\" transform=\"translate(36.320875 156.731375)scale(0.1 -0.1)\">\r\n     <use xlink:href=\"#DejaVuSans-48\"/>\r\n    </g>\r\n   </g>\r\n   <g id=\"text_62\">\r\n    <!-- 0 -->\r\n    <g style=\"fill:#ffffff;\" transform=\"translate(67.568875 156.731375)scale(0.1 -0.1)\">\r\n     <use xlink:href=\"#DejaVuSans-48\"/>\r\n    </g>\r\n   </g>\r\n   <g id=\"text_63\">\r\n    <!-- 0 -->\r\n    <g style=\"fill:#ffffff;\" transform=\"translate(98.816875 156.731375)scale(0.1 -0.1)\">\r\n     <use xlink:href=\"#DejaVuSans-48\"/>\r\n    </g>\r\n   </g>\r\n   <g id=\"text_64\">\r\n    <!-- 0 -->\r\n    <g style=\"fill:#ffffff;\" transform=\"translate(130.064875 156.731375)scale(0.1 -0.1)\">\r\n     <use xlink:href=\"#DejaVuSans-48\"/>\r\n    </g>\r\n   </g>\r\n   <g id=\"text_65\">\r\n    <!-- 30 -->\r\n    <g style=\"fill:#262626;\" transform=\"translate(158.131625 156.731375)scale(0.1 -0.1)\">\r\n     <use xlink:href=\"#DejaVuSans-51\"/>\r\n     <use x=\"63.623047\" xlink:href=\"#DejaVuSans-48\"/>\r\n    </g>\r\n   </g>\r\n   <g id=\"text_66\">\r\n    <!-- 0 -->\r\n    <g style=\"fill:#ffffff;\" transform=\"translate(192.560875 156.731375)scale(0.1 -0.1)\">\r\n     <use xlink:href=\"#DejaVuSans-48\"/>\r\n    </g>\r\n   </g>\r\n   <g id=\"text_67\">\r\n    <!-- 0 -->\r\n    <g style=\"fill:#ffffff;\" transform=\"translate(223.808875 156.731375)scale(0.1 -0.1)\">\r\n     <use xlink:href=\"#DejaVuSans-48\"/>\r\n    </g>\r\n   </g>\r\n   <g id=\"text_68\">\r\n    <!-- 0 -->\r\n    <g style=\"fill:#ffffff;\" transform=\"translate(255.056875 156.731375)scale(0.1 -0.1)\">\r\n     <use xlink:href=\"#DejaVuSans-48\"/>\r\n    </g>\r\n   </g>\r\n   <g id=\"text_69\">\r\n    <!-- 0 -->\r\n    <g style=\"fill:#ffffff;\" transform=\"translate(286.304875 156.731375)scale(0.1 -0.1)\">\r\n     <use xlink:href=\"#DejaVuSans-48\"/>\r\n    </g>\r\n   </g>\r\n   <g id=\"text_70\">\r\n    <!-- 0 -->\r\n    <g style=\"fill:#ffffff;\" transform=\"translate(317.552875 156.731375)scale(0.1 -0.1)\">\r\n     <use xlink:href=\"#DejaVuSans-48\"/>\r\n    </g>\r\n   </g>\r\n   <g id=\"text_71\">\r\n    <!-- 0 -->\r\n    <g style=\"fill:#ffffff;\" transform=\"translate(36.320875 189.347375)scale(0.1 -0.1)\">\r\n     <use xlink:href=\"#DejaVuSans-48\"/>\r\n    </g>\r\n   </g>\r\n   <g id=\"text_72\">\r\n    <!-- 0 -->\r\n    <g style=\"fill:#ffffff;\" transform=\"translate(67.568875 189.347375)scale(0.1 -0.1)\">\r\n     <use xlink:href=\"#DejaVuSans-48\"/>\r\n    </g>\r\n   </g>\r\n   <g id=\"text_73\">\r\n    <!-- 0 -->\r\n    <g style=\"fill:#ffffff;\" transform=\"translate(98.816875 189.347375)scale(0.1 -0.1)\">\r\n     <use xlink:href=\"#DejaVuSans-48\"/>\r\n    </g>\r\n   </g>\r\n   <g id=\"text_74\">\r\n    <!-- 0 -->\r\n    <g style=\"fill:#ffffff;\" transform=\"translate(130.064875 189.347375)scale(0.1 -0.1)\">\r\n     <use xlink:href=\"#DejaVuSans-48\"/>\r\n    </g>\r\n   </g>\r\n   <g id=\"text_75\">\r\n    <!-- 0 -->\r\n    <g style=\"fill:#ffffff;\" transform=\"translate(161.312875 189.347375)scale(0.1 -0.1)\">\r\n     <use xlink:href=\"#DejaVuSans-48\"/>\r\n    </g>\r\n   </g>\r\n   <g id=\"text_76\">\r\n    <!-- 32 -->\r\n    <g style=\"fill:#262626;\" transform=\"translate(189.379625 189.347375)scale(0.1 -0.1)\">\r\n     <use xlink:href=\"#DejaVuSans-51\"/>\r\n     <use x=\"63.623047\" xlink:href=\"#DejaVuSans-50\"/>\r\n    </g>\r\n   </g>\r\n   <g id=\"text_77\">\r\n    <!-- 0 -->\r\n    <g style=\"fill:#ffffff;\" transform=\"translate(223.808875 189.347375)scale(0.1 -0.1)\">\r\n     <use xlink:href=\"#DejaVuSans-48\"/>\r\n    </g>\r\n   </g>\r\n   <g id=\"text_78\">\r\n    <!-- 0 -->\r\n    <g style=\"fill:#ffffff;\" transform=\"translate(255.056875 189.347375)scale(0.1 -0.1)\">\r\n     <use xlink:href=\"#DejaVuSans-48\"/>\r\n    </g>\r\n   </g>\r\n   <g id=\"text_79\">\r\n    <!-- 0 -->\r\n    <g style=\"fill:#ffffff;\" transform=\"translate(286.304875 189.347375)scale(0.1 -0.1)\">\r\n     <use xlink:href=\"#DejaVuSans-48\"/>\r\n    </g>\r\n   </g>\r\n   <g id=\"text_80\">\r\n    <!-- 0 -->\r\n    <g style=\"fill:#ffffff;\" transform=\"translate(317.552875 189.347375)scale(0.1 -0.1)\">\r\n     <use xlink:href=\"#DejaVuSans-48\"/>\r\n    </g>\r\n   </g>\r\n   <g id=\"text_81\">\r\n    <!-- 0 -->\r\n    <g style=\"fill:#ffffff;\" transform=\"translate(36.320875 221.963375)scale(0.1 -0.1)\">\r\n     <use xlink:href=\"#DejaVuSans-48\"/>\r\n    </g>\r\n   </g>\r\n   <g id=\"text_82\">\r\n    <!-- 0 -->\r\n    <g style=\"fill:#ffffff;\" transform=\"translate(67.568875 221.963375)scale(0.1 -0.1)\">\r\n     <use xlink:href=\"#DejaVuSans-48\"/>\r\n    </g>\r\n   </g>\r\n   <g id=\"text_83\">\r\n    <!-- 0 -->\r\n    <g style=\"fill:#ffffff;\" transform=\"translate(98.816875 221.963375)scale(0.1 -0.1)\">\r\n     <use xlink:href=\"#DejaVuSans-48\"/>\r\n    </g>\r\n   </g>\r\n   <g id=\"text_84\">\r\n    <!-- 0 -->\r\n    <g style=\"fill:#ffffff;\" transform=\"translate(130.064875 221.963375)scale(0.1 -0.1)\">\r\n     <use xlink:href=\"#DejaVuSans-48\"/>\r\n    </g>\r\n   </g>\r\n   <g id=\"text_85\">\r\n    <!-- 0 -->\r\n    <g style=\"fill:#ffffff;\" transform=\"translate(161.312875 221.963375)scale(0.1 -0.1)\">\r\n     <use xlink:href=\"#DejaVuSans-48\"/>\r\n    </g>\r\n   </g>\r\n   <g id=\"text_86\">\r\n    <!-- 0 -->\r\n    <g style=\"fill:#ffffff;\" transform=\"translate(192.560875 221.963375)scale(0.1 -0.1)\">\r\n     <use xlink:href=\"#DejaVuSans-48\"/>\r\n    </g>\r\n   </g>\r\n   <g id=\"text_87\">\r\n    <!-- 21 -->\r\n    <g style=\"fill:#ffffff;\" transform=\"translate(220.627625 221.963375)scale(0.1 -0.1)\">\r\n     <use xlink:href=\"#DejaVuSans-50\"/>\r\n     <use x=\"63.623047\" xlink:href=\"#DejaVuSans-49\"/>\r\n    </g>\r\n   </g>\r\n   <g id=\"text_88\">\r\n    <!-- 0 -->\r\n    <g style=\"fill:#ffffff;\" transform=\"translate(255.056875 221.963375)scale(0.1 -0.1)\">\r\n     <use xlink:href=\"#DejaVuSans-48\"/>\r\n    </g>\r\n   </g>\r\n   <g id=\"text_89\">\r\n    <!-- 0 -->\r\n    <g style=\"fill:#ffffff;\" transform=\"translate(286.304875 221.963375)scale(0.1 -0.1)\">\r\n     <use xlink:href=\"#DejaVuSans-48\"/>\r\n    </g>\r\n   </g>\r\n   <g id=\"text_90\">\r\n    <!-- 0 -->\r\n    <g style=\"fill:#ffffff;\" transform=\"translate(317.552875 221.963375)scale(0.1 -0.1)\">\r\n     <use xlink:href=\"#DejaVuSans-48\"/>\r\n    </g>\r\n   </g>\r\n   <g id=\"text_91\">\r\n    <!-- 0 -->\r\n    <g style=\"fill:#ffffff;\" transform=\"translate(36.320875 254.579375)scale(0.1 -0.1)\">\r\n     <use xlink:href=\"#DejaVuSans-48\"/>\r\n    </g>\r\n   </g>\r\n   <g id=\"text_92\">\r\n    <!-- 0 -->\r\n    <g style=\"fill:#ffffff;\" transform=\"translate(67.568875 254.579375)scale(0.1 -0.1)\">\r\n     <use xlink:href=\"#DejaVuSans-48\"/>\r\n    </g>\r\n   </g>\r\n   <g id=\"text_93\">\r\n    <!-- 0 -->\r\n    <g style=\"fill:#ffffff;\" transform=\"translate(98.816875 254.579375)scale(0.1 -0.1)\">\r\n     <use xlink:href=\"#DejaVuSans-48\"/>\r\n    </g>\r\n   </g>\r\n   <g id=\"text_94\">\r\n    <!-- 0 -->\r\n    <g style=\"fill:#ffffff;\" transform=\"translate(130.064875 254.579375)scale(0.1 -0.1)\">\r\n     <use xlink:href=\"#DejaVuSans-48\"/>\r\n    </g>\r\n   </g>\r\n   <g id=\"text_95\">\r\n    <!-- 0 -->\r\n    <g style=\"fill:#ffffff;\" transform=\"translate(161.312875 254.579375)scale(0.1 -0.1)\">\r\n     <use xlink:href=\"#DejaVuSans-48\"/>\r\n    </g>\r\n   </g>\r\n   <g id=\"text_96\">\r\n    <!-- 0 -->\r\n    <g style=\"fill:#ffffff;\" transform=\"translate(192.560875 254.579375)scale(0.1 -0.1)\">\r\n     <use xlink:href=\"#DejaVuSans-48\"/>\r\n    </g>\r\n   </g>\r\n   <g id=\"text_97\">\r\n    <!-- 0 -->\r\n    <g style=\"fill:#ffffff;\" transform=\"translate(223.808875 254.579375)scale(0.1 -0.1)\">\r\n     <use xlink:href=\"#DejaVuSans-48\"/>\r\n    </g>\r\n   </g>\r\n   <g id=\"text_98\">\r\n    <!-- 27 -->\r\n    <g style=\"fill:#262626;\" transform=\"translate(251.875625 254.579375)scale(0.1 -0.1)\">\r\n     <use xlink:href=\"#DejaVuSans-50\"/>\r\n     <use x=\"63.623047\" xlink:href=\"#DejaVuSans-55\"/>\r\n    </g>\r\n   </g>\r\n   <g id=\"text_99\">\r\n    <!-- 0 -->\r\n    <g style=\"fill:#ffffff;\" transform=\"translate(286.304875 254.579375)scale(0.1 -0.1)\">\r\n     <use xlink:href=\"#DejaVuSans-48\"/>\r\n    </g>\r\n   </g>\r\n   <g id=\"text_100\">\r\n    <!-- 0 -->\r\n    <g style=\"fill:#ffffff;\" transform=\"translate(317.552875 254.579375)scale(0.1 -0.1)\">\r\n     <use xlink:href=\"#DejaVuSans-48\"/>\r\n    </g>\r\n   </g>\r\n   <g id=\"text_101\">\r\n    <!-- 0 -->\r\n    <g style=\"fill:#ffffff;\" transform=\"translate(36.320875 287.195375)scale(0.1 -0.1)\">\r\n     <use xlink:href=\"#DejaVuSans-48\"/>\r\n    </g>\r\n   </g>\r\n   <g id=\"text_102\">\r\n    <!-- 0 -->\r\n    <g style=\"fill:#ffffff;\" transform=\"translate(67.568875 287.195375)scale(0.1 -0.1)\">\r\n     <use xlink:href=\"#DejaVuSans-48\"/>\r\n    </g>\r\n   </g>\r\n   <g id=\"text_103\">\r\n    <!-- 0 -->\r\n    <g style=\"fill:#ffffff;\" transform=\"translate(98.816875 287.195375)scale(0.1 -0.1)\">\r\n     <use xlink:href=\"#DejaVuSans-48\"/>\r\n    </g>\r\n   </g>\r\n   <g id=\"text_104\">\r\n    <!-- 0 -->\r\n    <g style=\"fill:#ffffff;\" transform=\"translate(130.064875 287.195375)scale(0.1 -0.1)\">\r\n     <use xlink:href=\"#DejaVuSans-48\"/>\r\n    </g>\r\n   </g>\r\n   <g id=\"text_105\">\r\n    <!-- 0 -->\r\n    <g style=\"fill:#ffffff;\" transform=\"translate(161.312875 287.195375)scale(0.1 -0.1)\">\r\n     <use xlink:href=\"#DejaVuSans-48\"/>\r\n    </g>\r\n   </g>\r\n   <g id=\"text_106\">\r\n    <!-- 0 -->\r\n    <g style=\"fill:#ffffff;\" transform=\"translate(192.560875 287.195375)scale(0.1 -0.1)\">\r\n     <use xlink:href=\"#DejaVuSans-48\"/>\r\n    </g>\r\n   </g>\r\n   <g id=\"text_107\">\r\n    <!-- 0 -->\r\n    <g style=\"fill:#ffffff;\" transform=\"translate(223.808875 287.195375)scale(0.1 -0.1)\">\r\n     <use xlink:href=\"#DejaVuSans-48\"/>\r\n    </g>\r\n   </g>\r\n   <g id=\"text_108\">\r\n    <!-- 0 -->\r\n    <g style=\"fill:#ffffff;\" transform=\"translate(255.056875 287.195375)scale(0.1 -0.1)\">\r\n     <use xlink:href=\"#DejaVuSans-48\"/>\r\n    </g>\r\n   </g>\r\n   <g id=\"text_109\">\r\n    <!-- 30 -->\r\n    <g style=\"fill:#262626;\" transform=\"translate(283.123625 287.195375)scale(0.1 -0.1)\">\r\n     <use xlink:href=\"#DejaVuSans-51\"/>\r\n     <use x=\"63.623047\" xlink:href=\"#DejaVuSans-48\"/>\r\n    </g>\r\n   </g>\r\n   <g id=\"text_110\">\r\n    <!-- 0 -->\r\n    <g style=\"fill:#ffffff;\" transform=\"translate(317.552875 287.195375)scale(0.1 -0.1)\">\r\n     <use xlink:href=\"#DejaVuSans-48\"/>\r\n    </g>\r\n   </g>\r\n   <g id=\"text_111\">\r\n    <!-- 0 -->\r\n    <g style=\"fill:#ffffff;\" transform=\"translate(36.320875 319.811375)scale(0.1 -0.1)\">\r\n     <use xlink:href=\"#DejaVuSans-48\"/>\r\n    </g>\r\n   </g>\r\n   <g id=\"text_112\">\r\n    <!-- 0 -->\r\n    <g style=\"fill:#ffffff;\" transform=\"translate(67.568875 319.811375)scale(0.1 -0.1)\">\r\n     <use xlink:href=\"#DejaVuSans-48\"/>\r\n    </g>\r\n   </g>\r\n   <g id=\"text_113\">\r\n    <!-- 0 -->\r\n    <g style=\"fill:#ffffff;\" transform=\"translate(98.816875 319.811375)scale(0.1 -0.1)\">\r\n     <use xlink:href=\"#DejaVuSans-48\"/>\r\n    </g>\r\n   </g>\r\n   <g id=\"text_114\">\r\n    <!-- 0 -->\r\n    <g style=\"fill:#ffffff;\" transform=\"translate(130.064875 319.811375)scale(0.1 -0.1)\">\r\n     <use xlink:href=\"#DejaVuSans-48\"/>\r\n    </g>\r\n   </g>\r\n   <g id=\"text_115\">\r\n    <!-- 0 -->\r\n    <g style=\"fill:#ffffff;\" transform=\"translate(161.312875 319.811375)scale(0.1 -0.1)\">\r\n     <use xlink:href=\"#DejaVuSans-48\"/>\r\n    </g>\r\n   </g>\r\n   <g id=\"text_116\">\r\n    <!-- 0 -->\r\n    <g style=\"fill:#ffffff;\" transform=\"translate(192.560875 319.811375)scale(0.1 -0.1)\">\r\n     <use xlink:href=\"#DejaVuSans-48\"/>\r\n    </g>\r\n   </g>\r\n   <g id=\"text_117\">\r\n    <!-- 0 -->\r\n    <g style=\"fill:#ffffff;\" transform=\"translate(223.808875 319.811375)scale(0.1 -0.1)\">\r\n     <use xlink:href=\"#DejaVuSans-48\"/>\r\n    </g>\r\n   </g>\r\n   <g id=\"text_118\">\r\n    <!-- 1 -->\r\n    <g style=\"fill:#ffffff;\" transform=\"translate(255.056875 319.811375)scale(0.1 -0.1)\">\r\n     <use xlink:href=\"#DejaVuSans-49\"/>\r\n    </g>\r\n   </g>\r\n   <g id=\"text_119\">\r\n    <!-- 0 -->\r\n    <g style=\"fill:#ffffff;\" transform=\"translate(286.304875 319.811375)scale(0.1 -0.1)\">\r\n     <use xlink:href=\"#DejaVuSans-48\"/>\r\n    </g>\r\n   </g>\r\n   <g id=\"text_120\">\r\n    <!-- 20 -->\r\n    <g style=\"fill:#ffffff;\" transform=\"translate(314.371625 319.811375)scale(0.1 -0.1)\">\r\n     <use xlink:href=\"#DejaVuSans-50\"/>\r\n     <use x=\"63.623047\" xlink:href=\"#DejaVuSans-48\"/>\r\n    </g>\r\n   </g>\r\n  </g>\r\n  <g id=\"axes_2\">\r\n   <g id=\"patch_3\">\r\n    <path clip-path=\"url(#p44b30b8590)\" d=\"M 355.888125 333.36 \r\nL 355.888125 332.085937 \r\nL 355.888125 8.474063 \r\nL 355.888125 7.2 \r\nL 372.196125 7.2 \r\nL 372.196125 8.474063 \r\nL 372.196125 332.085937 \r\nL 372.196125 333.36 \r\nz\r\n\" style=\"fill:#ffffff;stroke:#ffffff;stroke-linejoin:miter;stroke-width:0.01;\"/>\r\n   </g>\r\n   <image height=\"326\" id=\"image577c26438f\" transform=\"scale(1 -1)translate(0 -326)\" width=\"16\" x=\"356\" xlink:href=\"data:image/png;base64,\r\niVBORw0KGgoAAAANSUhEUgAAABAAAAFGCAYAAABjUx8/AAABu0lEQVR4nO2a0Q3DQAhDobku0f33TId4luxD3H8s8zAkadPP9/cWOKfJ1VV1upmEQKCYwAddXYoSPvcz4CVgiJABdrAQIyDSWfB3QRAkdxsVDhiGEUEasNYXor8E/z6YsNICgmRngB1QAcVahwL3j3PCKw+Osp0BVViICogJO5GdhCdVLsDOBAb2G0vANAq6YHYQANGexIAnVXsOIlYaFEjoAjszkshOAgP0L9MUiFjA/oABBQQQaZAmMMACC1GwUNwrLYDBBimDAbOASwhIIof4MggjGNwfpMYlUAeCNg5IIu6CnQGcpoAkNnxEUUCEDAQ/iVIHAyDiKC8DzACXILg3wtuzACJ34IbIkwg9BDCYECQooPgCggpwBtRBQBKxgBkiZ1D+jeQWEEB0l4AdBAyTACL8hyMBormEU9QBLSFgGkcwwEFyf9hGHURAZCY2iVWn4J1lQpDaHiTahQCI/mkcANGeRMUrjz0HGKL9W13BMNm7EDCNkAF/X7ifgX2YsIOIlWYX2JU2Yhr9SRwA0c1gV9qMIHU/ZgcbpIwg0RwsxIRhcnchYhrNUY5Y6zuN9hz42xiQRPs4YwZ/ztQuS6ONcUwAAAAASUVORK5CYII=\" y=\"-7\"/>\r\n   <g id=\"matplotlib.axis_3\"/>\r\n   <g id=\"matplotlib.axis_4\">\r\n    <g id=\"ytick_11\">\r\n     <g id=\"line2d_21\">\r\n      <defs>\r\n       <path d=\"M 0 0 \r\nL 3.5 0 \r\n\" id=\"medba1ad799\" style=\"stroke:#000000;stroke-width:0.8;\"/>\r\n      </defs>\r\n      <g>\r\n       <use style=\"stroke:#000000;stroke-width:0.8;\" x=\"372.196125\" xlink:href=\"#medba1ad799\" y=\"333.36\"/>\r\n      </g>\r\n     </g>\r\n     <g id=\"text_121\">\r\n      <!-- 0 -->\r\n      <g transform=\"translate(379.196125 337.159219)scale(0.1 -0.1)\">\r\n       <use xlink:href=\"#DejaVuSans-48\"/>\r\n      </g>\r\n     </g>\r\n    </g>\r\n    <g id=\"ytick_12\">\r\n     <g id=\"line2d_22\">\r\n      <g>\r\n       <use style=\"stroke:#000000;stroke-width:0.8;\" x=\"372.196125\" xlink:href=\"#medba1ad799\" y=\"282.3975\"/>\r\n      </g>\r\n     </g>\r\n     <g id=\"text_122\">\r\n      <!-- 5 -->\r\n      <g transform=\"translate(379.196125 286.196719)scale(0.1 -0.1)\">\r\n       <use xlink:href=\"#DejaVuSans-53\"/>\r\n      </g>\r\n     </g>\r\n    </g>\r\n    <g id=\"ytick_13\">\r\n     <g id=\"line2d_23\">\r\n      <g>\r\n       <use style=\"stroke:#000000;stroke-width:0.8;\" x=\"372.196125\" xlink:href=\"#medba1ad799\" y=\"231.435\"/>\r\n      </g>\r\n     </g>\r\n     <g id=\"text_123\">\r\n      <!-- 10 -->\r\n      <g transform=\"translate(379.196125 235.234219)scale(0.1 -0.1)\">\r\n       <use xlink:href=\"#DejaVuSans-49\"/>\r\n       <use x=\"63.623047\" xlink:href=\"#DejaVuSans-48\"/>\r\n      </g>\r\n     </g>\r\n    </g>\r\n    <g id=\"ytick_14\">\r\n     <g id=\"line2d_24\">\r\n      <g>\r\n       <use style=\"stroke:#000000;stroke-width:0.8;\" x=\"372.196125\" xlink:href=\"#medba1ad799\" y=\"180.4725\"/>\r\n      </g>\r\n     </g>\r\n     <g id=\"text_124\">\r\n      <!-- 15 -->\r\n      <g transform=\"translate(379.196125 184.271719)scale(0.1 -0.1)\">\r\n       <use xlink:href=\"#DejaVuSans-49\"/>\r\n       <use x=\"63.623047\" xlink:href=\"#DejaVuSans-53\"/>\r\n      </g>\r\n     </g>\r\n    </g>\r\n    <g id=\"ytick_15\">\r\n     <g id=\"line2d_25\">\r\n      <g>\r\n       <use style=\"stroke:#000000;stroke-width:0.8;\" x=\"372.196125\" xlink:href=\"#medba1ad799\" y=\"129.51\"/>\r\n      </g>\r\n     </g>\r\n     <g id=\"text_125\">\r\n      <!-- 20 -->\r\n      <g transform=\"translate(379.196125 133.309219)scale(0.1 -0.1)\">\r\n       <use xlink:href=\"#DejaVuSans-50\"/>\r\n       <use x=\"63.623047\" xlink:href=\"#DejaVuSans-48\"/>\r\n      </g>\r\n     </g>\r\n    </g>\r\n    <g id=\"ytick_16\">\r\n     <g id=\"line2d_26\">\r\n      <g>\r\n       <use style=\"stroke:#000000;stroke-width:0.8;\" x=\"372.196125\" xlink:href=\"#medba1ad799\" y=\"78.5475\"/>\r\n      </g>\r\n     </g>\r\n     <g id=\"text_126\">\r\n      <!-- 25 -->\r\n      <g transform=\"translate(379.196125 82.346719)scale(0.1 -0.1)\">\r\n       <use xlink:href=\"#DejaVuSans-50\"/>\r\n       <use x=\"63.623047\" xlink:href=\"#DejaVuSans-53\"/>\r\n      </g>\r\n     </g>\r\n    </g>\r\n    <g id=\"ytick_17\">\r\n     <g id=\"line2d_27\">\r\n      <g>\r\n       <use style=\"stroke:#000000;stroke-width:0.8;\" x=\"372.196125\" xlink:href=\"#medba1ad799\" y=\"27.585\"/>\r\n      </g>\r\n     </g>\r\n     <g id=\"text_127\">\r\n      <!-- 30 -->\r\n      <g transform=\"translate(379.196125 31.384219)scale(0.1 -0.1)\">\r\n       <use xlink:href=\"#DejaVuSans-51\"/>\r\n       <use x=\"63.623047\" xlink:href=\"#DejaVuSans-48\"/>\r\n      </g>\r\n     </g>\r\n    </g>\r\n   </g>\r\n   <g id=\"patch_4\">\r\n    <path d=\"M 355.888125 333.36 \r\nL 355.888125 332.085937 \r\nL 355.888125 8.474063 \r\nL 355.888125 7.2 \r\nL 372.196125 7.2 \r\nL 372.196125 8.474063 \r\nL 372.196125 332.085937 \r\nL 372.196125 333.36 \r\nz\r\n\" style=\"fill:none;\"/>\r\n   </g>\r\n  </g>\r\n </g>\r\n <defs>\r\n  <clipPath id=\"paab80bbdb7\">\r\n   <rect height=\"326.16\" width=\"312.48\" x=\"23.878125\" y=\"7.2\"/>\r\n  </clipPath>\r\n  <clipPath id=\"p44b30b8590\">\r\n   <rect height=\"326.16\" width=\"16.308\" x=\"355.888125\" y=\"7.2\"/>\r\n  </clipPath>\r\n </defs>\r\n</svg>\r\n",
      "image/png": "[encoded data removed]"
     },
     "metadata": {
      "needs_background": "light"
     }
    },
    {
     "output_type": "stream",
     "name": "stdout",
     "text": [
      "Classification Report\n              precision    recall  f1-score   support\n\n           0       1.00      1.00      1.00        28\n           1       1.00      1.00      1.00        20\n           2       1.00      1.00      1.00        27\n           3       1.00      1.00      1.00        29\n           4       1.00      1.00      1.00        30\n           5       1.00      1.00      1.00        32\n           6       1.00      1.00      1.00        21\n           7       0.96      1.00      0.98        27\n           8       1.00      1.00      1.00        30\n           9       1.00      0.95      0.98        21\n\n    accuracy                           1.00       265\n   macro avg       1.00      1.00      1.00       265\nweighted avg       1.00      1.00      1.00       265\n\n"
     ]
    }
   ],
   "source": [
    "import pandas as pd\n",
    "import seaborn as sns\n",
    "import matplotlib.pyplot as plt\n",
    "from sklearn.metrics import confusion_matrix, classification_report\n",
    "\n",
    "def print_confusion_matrix(y_true, y_pred, report=True):\n",
    "    labels = sorted(list(set(y_true)))\n",
    "    cmx_data = confusion_matrix(y_true, y_pred, labels=labels)\n",
    "    \n",
    "    df_cmx = pd.DataFrame(cmx_data, index=labels, columns=labels)\n",
    " \n",
    "    fig, ax = plt.subplots(figsize=(7, 6))\n",
    "    sns.heatmap(df_cmx, annot=True, fmt='g' ,square=False)\n",
    "    ax.set_ylim(len(set(y_true)), 0)\n",
    "    plt.show()\n",
    "    \n",
    "    if report:\n",
    "        print('Classification Report')\n",
    "        print(classification_report(y_test, y_pred))\n",
    "\n",
    "Y_pred = model.predict(X_test)\n",
    "y_pred = np.argmax(Y_pred, axis=1)\n",
    "\n",
    "print_confusion_matrix(y_test, y_pred)"
   ]
  },
  {
   "cell_type": "markdown",
   "metadata": {},
   "source": [
    "# Tensorflow-Lite用のモデルへ変換"
   ]
  },
  {
   "cell_type": "code",
   "execution_count": 16,
   "metadata": {},
   "outputs": [],
   "source": [
    "# 推論専用のモデルとして保存\n",
    "model.save(model_save_path, include_optimizer=False)"
   ]
  },
  {
   "cell_type": "code",
   "execution_count": 17,
   "metadata": {},
   "outputs": [
    {
     "output_type": "stream",
     "name": "stdout",
     "text": [
      "INFO:tensorflow:Assets written to: C:\\Users\\LAPTOP~1\\AppData\\Local\\Temp\\tmpx3i8ehhq\\assets\n"
     ]
    },
    {
     "output_type": "execute_result",
     "data": {
      "text/plain": [
       "6624"
      ]
     },
     "metadata": {},
     "execution_count": 17
    }
   ],
   "source": [
    "# モデルを変換(量子化)\n",
    "tflite_save_path = 'model/keypoint_classifier/alpha_clf.tflite'\n",
    "\n",
    "converter = tf.lite.TFLiteConverter.from_keras_model(model)\n",
    "converter.optimizations = [tf.lite.Optimize.DEFAULT]\n",
    "tflite_quantized_model = converter.convert()\n",
    "\n",
    "open(tflite_save_path, 'wb').write(tflite_quantized_model)"
   ]
  },
  {
   "cell_type": "markdown",
   "metadata": {},
   "source": [
    "# 推論テスト"
   ]
  },
  {
   "cell_type": "code",
   "execution_count": 18,
   "metadata": {},
   "outputs": [],
   "source": [
    "interpreter = tf.lite.Interpreter(model_path=tflite_save_path)\n",
    "interpreter.allocate_tensors()"
   ]
  },
  {
   "cell_type": "code",
   "execution_count": 19,
   "metadata": {},
   "outputs": [],
   "source": [
    "# 入出力テンソルを取得\n",
    "input_details = interpreter.get_input_details()\n",
    "output_details = interpreter.get_output_details()"
   ]
  },
  {
   "cell_type": "code",
   "execution_count": 20,
   "metadata": {},
   "outputs": [],
   "source": [
    "interpreter.set_tensor(input_details[0]['index'], np.array([X_test[0]]))"
   ]
  },
  {
   "cell_type": "code",
   "execution_count": 21,
   "metadata": {
    "scrolled": true
   },
   "outputs": [
    {
     "output_type": "stream",
     "name": "stdout",
     "text": [
      "Wall time: 1.01 ms\n"
     ]
    }
   ],
   "source": [
    "%%time\n",
    "# 推論実施\n",
    "interpreter.invoke()\n",
    "tflite_results = interpreter.get_tensor(output_details[0]['index'])"
   ]
  },
  {
   "cell_type": "code",
   "execution_count": 22,
   "metadata": {},
   "outputs": [
    {
     "output_type": "stream",
     "name": "stdout",
     "text": [
      "[5.3620315e-03 2.7696444e-02 1.1401567e-02 3.7206153e-08 1.5422809e-03\n 9.5399624e-01 2.8878175e-09 1.5834569e-08 3.2841501e-07 1.1933176e-06]\n5\n"
     ]
    }
   ],
   "source": [
    "print(np.squeeze(tflite_results))\n",
    "print(np.argmax(np.squeeze(tflite_results)))"
   ]
  }
 ],
 "metadata": {
  "kernelspec": {
   "display_name": "media_pipe",
   "language": "python",
   "name": "media_pipe"
  },
  "language_info": {
   "codemirror_mode": {
    "name": "ipython",
    "version": 3
   },
   "file_extension": ".py",
   "mimetype": "text/x-python",
   "name": "python",
   "nbconvert_exporter": "python",
   "pygments_lexer": "ipython3",
   "version": "3.8.5-final"
  }
 },
 "nbformat": 4,
 "nbformat_minor": 4
}